{
 "cells": [
  {
   "cell_type": "markdown",
   "metadata": {},
   "source": [
    "# Julia ecosystems of scientific computing\n",
    "\n",
    "There are many Julia organizations about seemingly every scientific area. Some examples:\n",
    "\n",
    "- Astrophysics: [JuliaAstro](https://juliaastro.github.io/), [JuliaSpace](https://github.com/JuliaSpace)\n",
    "- Bio/Chemistry: [JuliaBio](https://biojulia.net/), [Molecular simulations](https://github.com/JuliaMolSim)\n",
    "- Complex systems, nonlinear dynamics: [JuliaDynamics](https://juliadynamics.github.io/JuliaDynamics/)\n",
    "- Differential equations: [JuliaDiffEq](https://juliadiffeq.org/)\n",
    "- Solid state: [QuantumOptics](https://qojulia.org/), [JuliaPhysics](https://github.com/JuliaPhysics)\n",
    "- Economics: [QuantEcon](https://julia.quantecon.org/), [JuliaQuant](https://github.com/JuliaQuant)\n",
    "- Geosciences/Climate: [JuliaGeo](https://github.com/JuliaGeo), [JuliaEarth](https://github.com/JuliaEarth), [JuliaClimate](https://github.com/JuliaClimate).\n",
    "\n",
    "among many many others, not even mentioning mathematics-focused organizations like nonlinear optimazation, etc....\n",
    "\n",
    "\n",
    "In this last session I will (**very briefly**) overview some powerful Julia packages I found useful for *my own work* and hopefully you will too. Even if the packages relevant for me are not useful in your field, it is still good practice to solve the exercises, to \"learn how to learn Julia packages\". \n",
    "\n",
    "*Quick note: I use `PyPlot` (the matplotlib package of Python) to plot, because it is super-duper powerful. All Python packages are immediatelly and directly usable in Julia with exactly same syntax as Python (besides the indexing thingy: Julia indices start from 1.*"
   ]
  },
  {
   "cell_type": "code",
   "execution_count": 14,
   "metadata": {},
   "outputs": [],
   "source": [
    "using PyPlot\n",
    "# set default figure size:\n",
    "PyPlot.rc(\"figure\", figsize = (5, 3))\n",
    "# enable 3D plotting\n",
    "using3D()"
   ]
  },
  {
   "cell_type": "markdown",
   "metadata": {},
   "source": [
    "\n",
    "# 1. DifferentialEquations.jl\n",
    "\n",
    "[DifferentialEquations.jl](https://docs.juliadiffeq.org/latest/) is by far [the best](https://www.stochasticlifestyle.com/comparison-differential-equation-solver-suites-matlab-r-julia-python-c-fortran/) free and open source differential equations solver (not for Julia, for any language). It can solve standard ODEs, Delay-DEs, stochastic DEs, has tools for PDEs, event handling, other multiple features, 100s of solvers, and *even more*.\n",
    "\n",
    "Here we will focus on ODEs and use the module `OrdinaryDiffEq` only.\n",
    "\n",
    "## Defining and solving some ODEs\n",
    "\n",
    "The way DifferentialEquations.jl works is quite straightforward:\n",
    "\n",
    "1. Make your set of ODEs a Julia function `f`\n",
    "2. Put `f`, an initial state and a parameter container into an `ODEProblem`.\n",
    "2. Choose the solvers and the arguments of the solvers you will use (e.g. tolerances, etc.)\n",
    "3. Give `f` as well as the auxilary arguments to the function `solve`!\n",
    "\n",
    "Let's see it in practice by solving the Lorenz system\n",
    "\n",
    "$$\n",
    "\\begin{aligned}\n",
    "\\dot{x} &= \\sigma (y - x) \\\\\n",
    "\\dot{y} &= x (\\rho - z) - y \\\\\n",
    "\\dot{z} &= xy -\\beta z\n",
    "\\end{aligned}\n",
    "$$\n",
    "\n",
    "First step is to make this a Julia function. There is some strictness when writing this function in Julia (to play well with another software, see below). \n",
    "Specifically, it can only be one of two forms: out-of-place (oop) or in-place (iip). Here is how to define it (`p` is the parameter container, `t` is time):\n",
    "\n",
    "* **oop** : The `eom` function must be in the form `eom(x, p, t) -> SVector`\n",
    "  which means that given a state `x::SVector` it returns an [`SVector`](http://juliaarrays.github.io/StaticArrays.jl/stable/pages/api.html#SVector-1)\n",
    "  (from the [StaticArrays](https://github.com/JuliaArrays/StaticArrays.jl) module)\n",
    "  containing the derivatives.\n",
    "* **iip** : The `eom` function must be in the form `eom!(dx, x, p, t)`\n",
    "  which means that given a state `x::Vector` it writes in-place the derivatives in `dx`.\n",
    "\n",
    "We advise to use **oop** for systems with dimension ≤ 10, and use **iip** otherwise."
   ]
  },
  {
   "cell_type": "code",
   "execution_count": 1,
   "metadata": {},
   "outputs": [
    {
     "data": {
      "text/plain": [
       "lorenz_rule (generic function with 1 method)"
      ]
     },
     "metadata": {},
     "output_type": "display_data"
    }
   ],
   "source": [
    "using OrdinaryDiffEq, StaticArrays\n",
    "\n",
    "function lorenz_rule(u, p, t)\n",
    "    σ, ρ, β = p\n",
    "    x, y, z = u\n",
    "    dx = σ*(y - x)\n",
    "    dy = x*(ρ-z) - y\n",
    "    dz = x*y - β*z\n",
    "    return SVector(dx, dy, dz)\n",
    "end"
   ]
  },
  {
   "cell_type": "markdown",
   "metadata": {},
   "source": [
    "Then set the initial state and parameter container"
   ]
  },
  {
   "cell_type": "code",
   "execution_count": 2,
   "metadata": {},
   "outputs": [
    {
     "data": {
      "text/plain": [
       "3-element Vector{Float64}:\n",
       " 10.0\n",
       " 28.0\n",
       "  2.6666666666666665"
      ]
     },
     "metadata": {},
     "output_type": "display_data"
    }
   ],
   "source": [
    "u₀ = SVector(10.0, 10.0, 10.0)\n",
    "p₀ = [10, 28, 8/3]"
   ]
  },
  {
   "cell_type": "markdown",
   "metadata": {},
   "source": [
    "then put everything into the `ODEProblem` structure:"
   ]
  },
  {
   "cell_type": "code",
   "execution_count": 3,
   "metadata": {
    "scrolled": true
   },
   "outputs": [
    {
     "data": {
      "text/plain": [
       "\u001b[36mODEProblem\u001b[0m with uType \u001b[36mSVector{3, Float64}\u001b[0m and tType \u001b[36mFloat64\u001b[0m. In-place: \u001b[36mfalse\u001b[0m\n",
       "timespan: (0.0, 100.0)\n",
       "u0: 3-element SVector{3, Float64} with indices SOneTo(3):\n",
       " 10.0\n",
       " 10.0\n",
       " 10.0"
      ]
     },
     "metadata": {},
     "output_type": "display_data"
    }
   ],
   "source": [
    "# third argument is the timespan to solve in\n",
    "prob = ODEProblem(lorenz_rule, u₀, (0.0, 100.0), p₀)"
   ]
  },
  {
   "cell_type": "markdown",
   "metadata": {},
   "source": [
    "Alright, so now we choose the solver to use"
   ]
  },
  {
   "cell_type": "code",
   "execution_count": 4,
   "metadata": {},
   "outputs": [
    {
     "data": {
      "text/plain": [
       "Vern9(true)"
      ]
     },
     "metadata": {},
     "output_type": "display_data"
    }
   ],
   "source": [
    "alg = Vern9() # 9-th order adaptive solver"
   ]
  },
  {
   "cell_type": "markdown",
   "metadata": {},
   "source": [
    "Now let's solve the Lorenz system using the default settings of DifferentialEquations.jl (without specifying anything else)."
   ]
  },
  {
   "cell_type": "code",
   "execution_count": 5,
   "metadata": {},
   "outputs": [
    {
     "data": {
      "text/plain": [
       "retcode: Success\n",
       "Interpolation: specialized 9th order lazy interpolation\n",
       "t: 888-element Vector{Float64}:\n",
       "   0.0\n",
       "   0.09355226310426\n",
       "   0.1728394373814634\n",
       "   0.24997045873484372\n",
       "   0.3311160955202647\n",
       "   0.4274313007963378\n",
       "   0.5201140753128073\n",
       "   0.624260479390237\n",
       "   0.734005218372606\n",
       "   0.838014934102812\n",
       "   ⋮\n",
       "  99.22041552152774\n",
       "  99.31361282221836\n",
       "  99.4287467289996\n",
       "  99.54318137424535\n",
       "  99.66383950581701\n",
       "  99.76615102547949\n",
       "  99.86143766760482\n",
       "  99.95827993987888\n",
       " 100.0\n",
       "u: 888-element Vector{SVector{3, Float64}}:\n",
       " [10.0, 10.0, 10.0]\n",
       " [14.527288897352586, 21.120714521899234, 24.65540101382083]\n",
       " [16.260683890272716, 11.987742957503144, 40.86665186055775]\n",
       " [9.410451913178985, -1.3453431666535849, 37.61301670747773]\n",
       " [2.3328782013637865, -3.820315527189645, 29.119937173255188]\n",
       " [-1.363730531789813, -3.620012876938611, 22.487559137134784]\n",
       " [-3.0793595202465047, -4.909410924205447, 18.353583699359532]\n",
       " [-5.65373018161608, -9.030462458962512, 16.635620359160438]\n",
       " [-10.553561266332455, -15.643230724479418, 22.30604557100975]\n",
       " [-13.629404699663771, -12.73185206151624, 34.732704399563595]\n",
       " ⋮\n",
       " [-0.9738925700176702, -0.5350597165141429, 19.065843436619925]\n",
       " [-0.9936095514159137, -1.3984008331559608, 14.943401381235084]\n",
       " [-2.0436821090780297, -3.6021736646655724, 11.35083465397053]\n",
       " [-5.208882775123556, -9.610502528719877, 10.6495508387418]\n",
       " [-13.118091082464776, -20.661031488735144, 23.082641901171318]\n",
       " [-15.242035864020176, -9.346584303383464, 41.223305688684604]\n",
       " [-6.408715682328325, 2.7146334561287087, 34.134773370835106]\n",
       " [-0.3849162381996695, 3.249062385414707, 25.59193863489435]\n",
       " [0.8338691610872886, 3.1696227458943307, 22.932445126651842]"
      ]
     },
     "metadata": {},
     "output_type": "display_data"
    }
   ],
   "source": [
    "sol = solve(prob; alg = alg)"
   ]
  },
  {
   "cell_type": "markdown",
   "metadata": {},
   "source": [
    "Okay, so what is the returned result? We didn't specify when to save or anything...\n",
    "\n",
    "The solver we chose, `Vern9` (also true for the default solver) is an adaptive step solver. The system is evolved with adaptive step, until we reach the end of the time span. A state is recorded at every step. E.g. the solution at the third step is "
   ]
  },
  {
   "cell_type": "code",
   "execution_count": 6,
   "metadata": {},
   "outputs": [
    {
     "data": {
      "text/plain": [
       "(0.1728394373814634, [16.260683890272716, 11.987742957503144, 40.86665186055775])"
      ]
     },
     "metadata": {},
     "output_type": "display_data"
    }
   ],
   "source": [
    "(sol.t[3], sol.u[3])"
   ]
  },
  {
   "cell_type": "markdown",
   "metadata": {},
   "source": [
    "And using the syntax `sol[i, j]` we can access the `i` variable at the `j`-th time point"
   ]
  },
  {
   "cell_type": "code",
   "execution_count": 7,
   "metadata": {},
   "outputs": [
    {
     "data": {
      "text/plain": [
       "16.260683890272716"
      ]
     },
     "metadata": {},
     "output_type": "display_data"
    }
   ],
   "source": [
    "sol[1, 3]"
   ]
  },
  {
   "cell_type": "code",
   "execution_count": 11,
   "metadata": {},
   "outputs": [
    {
     "data": {
      "text/plain": [
       "1-element Vector{PyCall.PyObject}:\n",
       " PyObject <mpl_toolkits.mplot3d.art3d.Line3D object at 0x16f7f6b80>"
      ]
     },
     "metadata": {},
     "output_type": "display_data"
    }
   ],
   "source": [
    "plot3D(sol[1, :], sol[2, :], sol[3, :])"
   ]
  },
  {
   "cell_type": "markdown",
   "metadata": {},
   "source": [
    "Because of the mechanics of the solver, `sol` object allows arbitrary interpolation in time by saving some extra derivative-related numbers. This means that we can use `sol` as a function of time, `sol(t)`:"
   ]
  },
  {
   "cell_type": "code",
   "execution_count": 12,
   "metadata": {},
   "outputs": [
    {
     "data": {
      "text/plain": [
       "3-element SVector{3, Float64} with indices SOneTo(3):\n",
       "  0.8157363803134967\n",
       " -2.629752072818019\n",
       " 25.43130552593624"
      ]
     },
     "metadata": {},
     "output_type": "display_data"
    }
   ],
   "source": [
    "sol(5.6)"
   ]
  },
  {
   "cell_type": "code",
   "execution_count": 15,
   "metadata": {},
   "outputs": [],
   "source": [
    "t = 0:0.01:10\n",
    "X, Y, Z = zero(t), zero(t), zero(t)\n",
    "for (i, τ) in enumerate(t)\n",
    "    X[i], Y[i], Z[i] = sol(τ)\n",
    "end\n",
    "plot3D(X, Y, Z);"
   ]
  },
  {
   "cell_type": "markdown",
   "metadata": {},
   "source": [
    "Notice that it is possible to skip this advanced feature of interpolation (and thus also skip collecting the extra interpolation-related numbers) and only save at some pre-defined time points by passing the extra argument `saveat = [points I want]`."
   ]
  },
  {
   "cell_type": "markdown",
   "metadata": {},
   "source": [
    "## Numbers with uncertainty\n",
    "\n",
    "The module `Measurements` provide numeric types that have error bars; so that your numeric operations propagate the errors as is done in experimental physics.\n",
    "\n",
    "Without any effort, you can solve a differential equation of numbers with error bars! And your solution will itself be a sequence of numbers with properly calculated errorbars.\n",
    "\n",
    "* How does this happen? Because `OrdinaryDiffEq` uses internally standard mathematical operations on numbers to solve an ODE. \n",
    "* `Measurements` defines a number type (`Measurement`, not that different from the `RationalNumber` you defined in a previous exercise). This number naturally supports arithmetics on `+, -, *,...` etc. on numbers with errors.\n",
    "\n",
    "Let's see how `Measurements` works:"
   ]
  },
  {
   "cell_type": "code",
   "execution_count": 17,
   "metadata": {},
   "outputs": [],
   "source": [
    "using Measurements"
   ]
  },
  {
   "cell_type": "code",
   "execution_count": 18,
   "metadata": {},
   "outputs": [
    {
     "data": {
      "text/latex": [
       "$0.5 \\pm 0.1$"
      ],
      "text/plain": [
       "0.5 ± 0.1"
      ]
     },
     "metadata": {},
     "output_type": "display_data"
    }
   ],
   "source": [
    "x = 0.5 ± 0.1 # \\pm<TAB> = ±"
   ]
  },
  {
   "cell_type": "code",
   "execution_count": 19,
   "metadata": {},
   "outputs": [
    {
     "data": {
      "text/plain": [
       "Measurement{Float64}"
      ]
     },
     "metadata": {},
     "output_type": "display_data"
    }
   ],
   "source": [
    "typeof(x)"
   ]
  },
  {
   "cell_type": "code",
   "execution_count": 20,
   "metadata": {},
   "outputs": [
    {
     "data": {
      "text/latex": [
       "$-9.2 \\pm 2.3$"
      ],
      "text/plain": [
       "-9.2 ± 2.3"
      ]
     },
     "metadata": {},
     "output_type": "display_data"
    }
   ],
   "source": [
    "(sqrt(x) - 3) * (4 ± 1)"
   ]
  },
  {
   "cell_type": "markdown",
   "metadata": {},
   "source": [
    "Okay let's rivisit now the Lorenz problem, but initialize it with a state that has `Measurement` as its number type"
   ]
  },
  {
   "cell_type": "code",
   "execution_count": 21,
   "metadata": {},
   "outputs": [
    {
     "data": {
      "text/plain": [
       "3-element SVector{3, Measurement{Float64}} with indices SOneTo(3):\n",
       " 10.0 ± 0.1\n",
       " 10.0 ± 0.1\n",
       " 10.0 ± 0.1"
      ]
     },
     "metadata": {},
     "output_type": "display_data"
    }
   ],
   "source": [
    "uunc = SVector(10.0 ± 0.1, 10.0 ± 0.1, 10.0 ± 0.1)\n",
    "# notice we could also add errors to parameters p₀"
   ]
  },
  {
   "cell_type": "code",
   "execution_count": 22,
   "metadata": {},
   "outputs": [
    {
     "data": {
      "text/plain": [
       "\u001b[36mODEProblem\u001b[0m with uType \u001b[36mSVector{3, Measurement{Float64}}\u001b[0m and tType \u001b[36mFloat64\u001b[0m. In-place: \u001b[36mfalse\u001b[0m\n",
       "timespan: (0.0, 10.0)\n",
       "u0: 3-element SVector{3, Measurement{Float64}} with indices SOneTo(3):\n",
       " 10.0 ± 0.1\n",
       " 10.0 ± 0.1\n",
       " 10.0 ± 0.1"
      ]
     },
     "metadata": {},
     "output_type": "display_data"
    }
   ],
   "source": [
    "probunc = ODEProblem(lorenz_rule, uunc, (0.0, 10.0), p₀)"
   ]
  },
  {
   "cell_type": "code",
   "execution_count": 23,
   "metadata": {},
   "outputs": [
    {
     "data": {
      "text/plain": [
       "retcode: Success\n",
       "Interpolation: specialized 9th order lazy interpolation\n",
       "t: 122-element Vector{Float64}:\n",
       "  0.0\n",
       "  0.13234363885533806\n",
       "  0.21267992404209823\n",
       "  0.2933779161537819\n",
       "  0.3773463861525547\n",
       "  0.46349697178826743\n",
       "  0.5466201346840942\n",
       "  0.634178457194408\n",
       "  0.7219957295249326\n",
       "  0.8070472446344157\n",
       "  ⋮\n",
       "  9.362874708116799\n",
       "  9.447136835550035\n",
       "  9.524040546141155\n",
       "  9.60316658543299\n",
       "  9.683639853089902\n",
       "  9.768834216723725\n",
       "  9.856926495657572\n",
       "  9.939115315413309\n",
       " 10.0\n",
       "u: 122-element Vector{SVector{3, Measurement{Float64}}}:\n",
       " [10.0 ± 0.1, 10.0 ± 0.1, 10.0 ± 0.1]\n",
       " [16.506 ± 0.063, 19.38 ± 0.11, 34.17 ± 0.22]\n",
       " [13.346 ± 0.079, 3.63 ± 0.19, 41.119 ± 0.075]\n",
       " [5.124 ± 0.098, -3.537 ± 0.091, 32.742 ± 0.093]\n",
       " [0.086 ± 0.078, -3.643 ± 0.073, 25.565 ± 0.06]\n",
       " [-2.086 ± 0.081, -3.897 ± 0.098, 20.652 ± 0.044]\n",
       " [-3.6 ± 0.11, -5.66 ± 0.15, 17.555 ± 0.076]\n",
       " [-6.0 ± 0.15, -9.6 ± 0.2, 16.74 ± 0.2]\n",
       " [-9.94 ± 0.17, -15.05 ± 0.11, 21.12 ± 0.43]\n",
       " [-13.46 ± 0.017, -15.37 ± 0.31, 31.51 ± 0.36]\n",
       " ⋮\n",
       " [-4.7 ± 150.0, 0.27 ± 240.0, 29.0 ± 10.0]\n",
       " [-1.9 ± 200.0, -0.11 ± 240.0, 23.0 ± 59.0]\n",
       " [-1.2 ± 240.0, -0.83 ± 330.0, 19.0 ± 84.0]\n",
       " [-1.2 ± 350.0, -1.7 ± 540.0, 16.0 ± 130.0]\n",
       " [-1.9 ± 570.0, -3.3 ± 960.0, 13.0 ± 270.0]\n",
       " [-3.7 ± 1000.0, -6.6 ± 1800.0, 11.0 ± 810.0]\n",
       " [-7.5 ± 1900.0, -13.0 ± 2800.0, 13.0 ± 2800.0]\n",
       " [-13.0 ± 1900.0, -20.0 ± 320.0, 24.0 ± 6500.0]\n",
       " [-16.0 ± 180.0, -17.0 ± 5100.0, 37.0 ± 4500.0]"
      ]
     },
     "metadata": {},
     "output_type": "display_data"
    }
   ],
   "source": [
    "solunc = solve(probunc; alg = alg)"
   ]
  },
  {
   "cell_type": "markdown",
   "metadata": {},
   "source": [
    "Notice that *obviously* trying to solve a chaotic system with such huge errors will diverge... No matter though, let's see the solution anyway."
   ]
  },
  {
   "cell_type": "code",
   "execution_count": 24,
   "metadata": {},
   "outputs": [
    {
     "data": {
      "text/plain": [
       "101-element Vector{Measurement{Float64}}:\n",
       "   10.0 ± 0.1\n",
       " 11.658 ± 0.083\n",
       " 14.942 ± 0.082\n",
       " 16.761 ± 0.048\n",
       " 14.501 ± 0.066\n",
       "   9.41 ± 0.1\n",
       "  4.565 ± 0.096\n",
       "  1.277 ± 0.083\n",
       " -0.663 ± 0.076\n",
       " -1.835 ± 0.079\n",
       "        ⋮\n",
       "   13.4 ± 4.1\n",
       "   10.3 ± 4.6\n",
       "    6.7 ± 3.0\n",
       "    4.0 ± 1.0\n",
       "    2.3 ± 0.55\n",
       "    1.4 ± 1.7\n",
       "    1.1 ± 2.6\n",
       "    1.0 ± 3.6\n",
       "    1.2 ± 4.9"
      ]
     },
     "metadata": {},
     "output_type": "display_data"
    }
   ],
   "source": [
    "t = 0:0.05:5\n",
    "Xunc = [solunc(τ)[1] for τ in t]"
   ]
  },
  {
   "cell_type": "code",
   "execution_count": 25,
   "metadata": {},
   "outputs": [
    {
     "data": {
      "text/plain": [
       "101-element Vector{Float64}:\n",
       " 0.1\n",
       " 0.08342714456816311\n",
       " 0.08243145121464028\n",
       " 0.047653676555919136\n",
       " 0.06634852936471135\n",
       " 0.10039438150267357\n",
       " 0.09643886077976023\n",
       " 0.08309413890419358\n",
       " 0.0764095569604244\n",
       " 0.07864193098079818\n",
       " ⋮\n",
       " 4.094594616325475\n",
       " 4.576490136219278\n",
       " 2.981654394993701\n",
       " 1.0008693788802632\n",
       " 0.5510702442242071\n",
       " 1.654467463419998\n",
       " 2.562818607691818\n",
       " 3.554524214513913\n",
       " 4.900933699877451"
      ]
     },
     "metadata": {},
     "output_type": "display_data"
    }
   ],
   "source": [
    "Xv = Measurements.value.(Xunc) # get values (broadcasting)\n",
    "Xe = Measurements.uncertainty.(Xunc) # get errors"
   ]
  },
  {
   "cell_type": "code",
   "execution_count": 26,
   "metadata": {},
   "outputs": [],
   "source": [
    "# plot errors nicely\n",
    "plot(t, Xv)\n",
    "fill_between(t, Xv .- Xe, Xv .+ Xe, color = \"C3\", alpha = 0.25);"
   ]
  },
  {
   "cell_type": "markdown",
   "metadata": {},
   "source": [
    "My guess is that you could probably/maybe get something like this in Python with a lot of effort. The case of Julia here is unbelievably cool because:\n",
    "\n",
    "1. `Measurements` has never written any code that solves a differential equation.\n",
    "2. `OrdinaryDiffEq` has never written any code that controls how an error is propagated.\n",
    "3. There isn't any boilerplate code \"connecting\" the two packages."
   ]
  },
  {
   "cell_type": "markdown",
   "metadata": {},
   "source": [
    "## Event handling\n",
    "\n",
    "DifferentialEquations.jl implements a simple API so that \"events\" (arbitrary things) happen to your solution as it is progressing in time. This is done with the [`Callback` interface](https://docs.juliadiffeq.org/latest/features/callback_functions/#callbacks-1). For example, a `ContinuousCallback` represents an event that \"triggers\" when a continuous univariate function reaches the value `0`. Similarly, a `DiscreteCallback` triggers when a boolean function evaluates to `true`.\n",
    "\n",
    "Let's modify the Lorenz problem with a callback. For the callback we need to define a `condition` function, and also an `affect!` function, that says what happens once the callback is triggered."
   ]
  },
  {
   "cell_type": "code",
   "execution_count": 27,
   "metadata": {},
   "outputs": [
    {
     "data": {
      "text/plain": [
       "condition (generic function with 1 method)"
      ]
     },
     "metadata": {},
     "output_type": "display_data"
    }
   ],
   "source": [
    "condition(u, t, integrator) = u[2]"
   ]
  },
  {
   "cell_type": "code",
   "execution_count": 28,
   "metadata": {},
   "outputs": [
    {
     "data": {
      "text/plain": [
       "affect! (generic function with 1 method)"
      ]
     },
     "metadata": {},
     "output_type": "display_data"
    }
   ],
   "source": [
    "function affect!(integrator)\n",
    "    u = integrator.u\n",
    "    integrator.u = (u[1], u[2], 0.9u[3])\n",
    "end"
   ]
  },
  {
   "cell_type": "code",
   "execution_count": 29,
   "metadata": {},
   "outputs": [],
   "source": [
    "cb = ContinuousCallback(condition, affect!);"
   ]
  },
  {
   "cell_type": "markdown",
   "metadata": {},
   "source": [
    "Recall the `prob` definition:"
   ]
  },
  {
   "cell_type": "code",
   "execution_count": 30,
   "metadata": {},
   "outputs": [
    {
     "data": {
      "text/plain": [
       "\u001b[36mODEProblem\u001b[0m with uType \u001b[36mSVector{3, Float64}\u001b[0m and tType \u001b[36mFloat64\u001b[0m. In-place: \u001b[36mfalse\u001b[0m\n",
       "timespan: (0.0, 10.0)\n",
       "u0: 3-element SVector{3, Float64} with indices SOneTo(3):\n",
       " 10.0\n",
       " 10.0\n",
       " 10.0"
      ]
     },
     "metadata": {},
     "output_type": "display_data"
    }
   ],
   "source": [
    "prob = ODEProblem(lorenz_rule, u₀, (0.0, 10.0), p₀)"
   ]
  },
  {
   "cell_type": "code",
   "execution_count": 31,
   "metadata": {},
   "outputs": [],
   "source": [
    "sol = solve(prob; alg = Vern9(), callback = cb);"
   ]
  },
  {
   "cell_type": "code",
   "execution_count": 27,
   "metadata": {},
   "outputs": [
    {
     "data": {
      "image/png": "[encoded data removed]",
      "text/plain": [
       "Figure(PyObject <Figure size 500x300 with 1 Axes>)"
      ]
     },
     "metadata": {},
     "output_type": "display_data"
    }
   ],
   "source": [
    "t = 0:0.01:10\n",
    "X, Y, Z = zero(t), zero(t), zero(t)\n",
    "for (i, τ) in enumerate(t)\n",
    "    X[i], Y[i], Z[i] = sol(τ)\n",
    "end\n",
    "plot3D(X, Y, Z);"
   ]
  },
  {
   "cell_type": "markdown",
   "metadata": {},
   "source": [
    "# 2. DynamicalSystems.jl\n",
    "[DynamicalSystems.jl](https://juliadynamics.github.io/DynamicalSystems.jl/dev/) is an award-winning library for nonlinear dynamics and chaos. \n",
    "\n",
    "*Disclaimer: I am one of the developers of this library.*\n",
    "\n",
    "Around 1/3 of the functionality of DynamicalSystems.jl treats systems with known rule $f$, and directly uses this rule to evolve the state space and the tangent space (the linearized dynamics). DynamicalSystems.jl builds on top of DifferentialEquations.jl to evolve systems in time. The rest of the functionality treats timeseries directly, doesn't matter where you got em from."
   ]
  },
  {
   "cell_type": "markdown",
   "metadata": {},
   "source": [
    "## Using known rule $f$\n",
    "\n",
    "If you have a dynamical system where you know its rule $f$, there are a lot of things you can do with in DynamicalSystems.jl. But for all of them, step 1 is to make this rule $f$ into a `DynamicalSystem` instance. The process here is almost identical to DifferentialEquations.jl:\n",
    "\n",
    "1. Make $f$ a Julia function (using the same syntax as in DifferentialEquations.jl).\n",
    "2. Choose initial state and parameter container (again same as DiffEq).\n",
    "3. Pass these arguments to the `ContinuousDynamicalSystem` constructor (or `DiscreteDynamicalSystem`, for discrete systems).\n",
    "\n",
    "Here we already have `lorenz_rule, u₀, p₀` defined, so the process  is kind of trivial:"
   ]
  },
  {
   "cell_type": "code",
   "execution_count": 32,
   "metadata": {},
   "outputs": [
    {
     "data": {
      "text/plain": [
       "3-dimensional continuous dynamical system\n",
       " state:       [10.0, 10.0, 10.0]\n",
       " rule f:      lorenz_rule\n",
       " in-place?    false\n",
       " jacobian:    ForwardDiff\n",
       " parameters:  [10.0, 28.0, 2.66667]"
      ]
     },
     "metadata": {},
     "output_type": "display_data"
    }
   ],
   "source": [
    "using DynamicalSystems\n",
    "lorenz = ContinuousDynamicalSystem(lorenz_rule, u₀, p₀)"
   ]
  },
  {
   "cell_type": "markdown",
   "metadata": {},
   "source": [
    "Then you can use this `lorenz` object in various functions of the library. For example, to obtain the Lyapunov spectrum you use `lyapunovs`:"
   ]
  },
  {
   "cell_type": "code",
   "execution_count": 33,
   "metadata": {},
   "outputs": [
    {
     "ename": "UndefVarError",
     "evalue": "UndefVarError: lyapunovs not defined",
     "output_type": "error",
     "traceback": [
      "UndefVarError: lyapunovs not defined\n",
      "\n",
      "Stacktrace:\n",
      "  [1] top-level scope\n",
      "    @ ~/programming/julia/NonlinearDynamicsTextbook/ws3.ipynb:1\n",
      "  [2] eval\n",
      "    @ ./boot.jl:373 [inlined]\n",
      "  [3] include_string(mapexpr::typeof(REPL.softscope), mod::Module, code::String, filename::String)\n",
      "    @ Base ./loading.jl:1196\n",
      "  [4] #invokelatest#2\n",
      "    @ ./essentials.jl:716 [inlined]\n",
      "  [5] invokelatest\n",
      "    @ ./essentials.jl:714 [inlined]\n",
      "  [6] (::VSCodeServer.var\"#164#165\"{VSCodeServer.NotebookRunCellArguments, String})()\n",
      "    @ VSCodeServer ~/.vscode-insiders/extensions/julialang.language-julia-insider-1.6.17/scripts/packages/VSCodeServer/src/serve_notebook.jl:19\n",
      "  [7] withpath(f::VSCodeServer.var\"#164#165\"{VSCodeServer.NotebookRunCellArguments, String}, path::String)\n",
      "    @ VSCodeServer ~/.vscode-insiders/extensions/julialang.language-julia-insider-1.6.17/scripts/packages/VSCodeServer/src/repl.jl:184\n",
      "  [8] notebook_runcell_request(conn::VSCodeServer.JSONRPC.JSONRPCEndpoint{Base.PipeEndpoint, Base.PipeEndpoint}, params::VSCodeServer.NotebookRunCellArguments)\n",
      "    @ VSCodeServer ~/.vscode-insiders/extensions/julialang.language-julia-insider-1.6.17/scripts/packages/VSCodeServer/src/serve_notebook.jl:13\n",
      "  [9] dispatch_msg(x::VSCodeServer.JSONRPC.JSONRPCEndpoint{Base.PipeEndpoint, Base.PipeEndpoint}, dispatcher::VSCodeServer.JSONRPC.MsgDispatcher, msg::Dict{String, Any})\n",
      "    @ VSCodeServer.JSONRPC ~/.vscode-insiders/extensions/julialang.language-julia-insider-1.6.17/scripts/packages/JSONRPC/src/typed.jl:67\n",
      " [10] serve_notebook(pipename::String, outputchannel_logger::Base.CoreLogging.SimpleLogger; crashreporting_pipename::String)\n",
      "    @ VSCodeServer ~/.vscode-insiders/extensions/julialang.language-julia-insider-1.6.17/scripts/packages/VSCodeServer/src/serve_notebook.jl:136\n",
      " [11] top-level scope\n",
      "    @ ~/.vscode-insiders/extensions/julialang.language-julia-insider-1.6.17/scripts/notebook/notebook.jl:32\n",
      " [12] include(mod::Module, _path::String)\n",
      "    @ Base ./Base.jl:418\n",
      " [13] exec_options(opts::Base.JLOptions)\n",
      "    @ Base ./client.jl:292\n",
      " [14] _start()\n",
      "    @ Base ./client.jl:495"
     ]
    }
   ],
   "source": [
    "lyapunovs(lorenz, 10000) # 2nd argument is for how much time to evolve"
   ]
  },
  {
   "cell_type": "markdown",
   "metadata": {},
   "source": [
    "Same story happens if you want to get only the maximum Lyapunov exponent. You use the function `lyapunov` (which uses a different algorithm):"
   ]
  },
  {
   "cell_type": "code",
   "execution_count": 34,
   "metadata": {},
   "outputs": [
    {
     "data": {
      "text/plain": [
       "0.9037393730313247"
      ]
     },
     "metadata": {},
     "output_type": "display_data"
    }
   ],
   "source": [
    "lyapunov(lorenz, 10000.0)"
   ]
  },
  {
   "cell_type": "markdown",
   "metadata": {},
   "source": [
    "Or, obtain a Poincare surface of section with the plane that e.g. the $y$ variable crosses zero:"
   ]
  },
  {
   "cell_type": "code",
   "execution_count": 35,
   "metadata": {},
   "outputs": [
    {
     "data": {
      "text/plain": [
       "3-dimensional Dataset{Float64} with 502 points\n",
       "  -7.10792  -3.66265e-7   33.0688\n",
       " -11.5291   -3.1458e-9    40.5135\n",
       "   2.24303   6.15566e-12  24.2377\n",
       "  -7.09758  -2.29198e-7   33.0521\n",
       " -11.5026   -1.91836e-9   40.4678\n",
       "   1.97185   2.285e-9     23.6029\n",
       "  -6.36179  -1.0439e-6    31.8233\n",
       " -10.1942   -2.49138e-9   38.2322\n",
       "   3.34247   2.59029e-6   26.5141\n",
       "  -8.63591  -1.86515e-7   35.614\n",
       "   ⋮                      \n",
       "  -6.56125  -4.95814e-7   32.1572\n",
       " -10.4669    1.72494e-8   38.6949\n",
       " -11.0555   -2.58937e-8   39.6993\n",
       "  -9.13733  -5.23453e-8   36.4524\n",
       "  -9.90491  -1.19992e-9   37.743\n",
       "   1.59224   1.50864e-9   22.6317\n",
       "  -8.6504   -1.25654e-7   35.6379\n",
       "  -7.51042  -2.16374e-7   33.7394\n",
       "  -8.41224  -1.73413e-7   35.2405"
      ]
     },
     "metadata": {},
     "output_type": "display_data"
    }
   ],
   "source": [
    "plane = (2, 0.0) # plane[1]: which variable, plane[2]: which value\n",
    "psos = poincaresos(lorenz, (2, 0.0), 1000.0)"
   ]
  },
  {
   "cell_type": "code",
   "execution_count": 36,
   "metadata": {
    "scrolled": true
   },
   "outputs": [],
   "source": [
    "scatter(psos[:, 1], psos[:, 3], s = 1);\n",
    "xlabel(\"X\"); ylabel(\"Z\");"
   ]
  },
  {
   "cell_type": "markdown",
   "metadata": {},
   "source": [
    "## Nonlinear timeseries analysis\n",
    "\n",
    "Both basic as well as advanced tools for nonlinear timeseries analysis are included in DynamicalSystems.jl. To spare you the boredom I won't talk about them though! I'll only mention entropy, because it is relevant to one of the exercises. Let's say that you have a nice trajectory sampled at discrete times (which is what the function `trajectory` does)."
   ]
  },
  {
   "cell_type": "code",
   "execution_count": 37,
   "metadata": {},
   "outputs": [
    {
     "name": "stderr",
     "output_type": "stream",
     "text": [
      "┌ Warning: Direct propagation of keyword arguments to DifferentialEquations.jl is deprecated.\n",
      "│ From now on pass any DiffEq-related keywords as a `NamedTuple` using the\n",
      "│ explicit keyword `diffeq` instead.\n",
      "└ @ DynamicalSystemsBase /Users/kern/.julia/packages/DynamicalSystemsBase/AHMTz/src/core/continuous.jl:181\n"
     ]
    },
    {
     "data": {
      "text/plain": [
       "3-dimensional Dataset{Float64} with 100001 points\n",
       " 10.0       10.0      10.0\n",
       " 10.0808    11.6572   10.8095\n",
       " 10.3078    13.2351   11.7771\n",
       " 10.6596    14.7361   12.9142\n",
       " 11.1167    16.1523   14.2344\n",
       " 11.6604    17.4659   15.75\n",
       " 12.2713    18.6488   17.4694\n",
       " 12.9287    19.6635   19.394\n",
       " 13.6103    20.4647   21.5143\n",
       " 14.2909    21.0026   23.8067\n",
       "  ⋮                   \n",
       " -2.85206   -5.22214  10.1349\n",
       " -3.10041   -5.70061  10.0285\n",
       " -3.37279   -6.22362   9.955\n",
       " -3.6713    -6.79446   9.9192\n",
       " -3.99818   -7.41636   9.92699\n",
       " -4.35571   -8.09224   9.98531\n",
       " -4.74626   -8.82457  10.1023\n",
       " -5.17214   -9.61512  10.2876\n",
       " -5.63557  -10.4645   10.5522"
      ]
     },
     "metadata": {},
     "output_type": "display_data"
    }
   ],
   "source": [
    "tr = trajectory(lorenz, 1000.0; dt = 0.05)"
   ]
  },
  {
   "cell_type": "markdown",
   "metadata": {},
   "source": [
    "The above result is not a `Matrix`, but a vector-of-vectors (for performance purposes). This `tr` represents in fact the attractor of the Lorenz system, since this is what we just evolved in time. Typically one is interested in the entropy of this attractor, by partitioning the state space in boxes of size `ε` (it will become apparent in a bit why).\n",
    "\n",
    "You can get this entropy (of order α) using the function `genentropy(α, ε, tr)`:"
   ]
  },
  {
   "cell_type": "code",
   "execution_count": 38,
   "metadata": {},
   "outputs": [
    {
     "ename": "MethodError",
     "evalue": "MethodError: no method matching genentropy(::Int64, ::Float64, ::Dataset{3, Float64})\nClosest candidates are:\n  genentropy(!Matched::Union{AbstractVector, AbstractDataset}, ::Any; q, α, base) at ~/.julia/packages/Entropies/rgbqM/src/core.jl:155",
     "output_type": "error",
     "traceback": [
      "MethodError: no method matching genentropy(::Int64, ::Float64, ::Dataset{3, Float64})\n",
      "Closest candidates are:\n",
      "  genentropy(!Matched::Union{AbstractVector, AbstractDataset}, ::Any; q, α, base) at ~/.julia/packages/Entropies/rgbqM/src/core.jl:155\n",
      "\n",
      "Stacktrace:\n",
      "  [1] top-level scope\n",
      "    @ ~/programming/julia/NonlinearDynamicsTextbook/ws3.ipynb:1\n",
      "  [2] eval\n",
      "    @ ./boot.jl:373 [inlined]\n",
      "  [3] include_string(mapexpr::typeof(REPL.softscope), mod::Module, code::String, filename::String)\n",
      "    @ Base ./loading.jl:1196\n",
      "  [4] #invokelatest#2\n",
      "    @ ./essentials.jl:716 [inlined]\n",
      "  [5] invokelatest\n",
      "    @ ./essentials.jl:714 [inlined]\n",
      "  [6] (::VSCodeServer.var\"#164#165\"{VSCodeServer.NotebookRunCellArguments, String})()\n",
      "    @ VSCodeServer ~/.vscode-insiders/extensions/julialang.language-julia-insider-1.6.17/scripts/packages/VSCodeServer/src/serve_notebook.jl:19\n",
      "  [7] withpath(f::VSCodeServer.var\"#164#165\"{VSCodeServer.NotebookRunCellArguments, String}, path::String)\n",
      "    @ VSCodeServer ~/.vscode-insiders/extensions/julialang.language-julia-insider-1.6.17/scripts/packages/VSCodeServer/src/repl.jl:184\n",
      "  [8] notebook_runcell_request(conn::VSCodeServer.JSONRPC.JSONRPCEndpoint{Base.PipeEndpoint, Base.PipeEndpoint}, params::VSCodeServer.NotebookRunCellArguments)\n",
      "    @ VSCodeServer ~/.vscode-insiders/extensions/julialang.language-julia-insider-1.6.17/scripts/packages/VSCodeServer/src/serve_notebook.jl:13\n",
      "  [9] dispatch_msg(x::VSCodeServer.JSONRPC.JSONRPCEndpoint{Base.PipeEndpoint, Base.PipeEndpoint}, dispatcher::VSCodeServer.JSONRPC.MsgDispatcher, msg::Dict{String, Any})\n",
      "    @ VSCodeServer.JSONRPC ~/.vscode-insiders/extensions/julialang.language-julia-insider-1.6.17/scripts/packages/JSONRPC/src/typed.jl:67\n",
      " [10] serve_notebook(pipename::String, outputchannel_logger::Base.CoreLogging.SimpleLogger; crashreporting_pipename::String)\n",
      "    @ VSCodeServer ~/.vscode-insiders/extensions/julialang.language-julia-insider-1.6.17/scripts/packages/VSCodeServer/src/serve_notebook.jl:136\n",
      " [11] top-level scope\n",
      "    @ ~/.vscode-insiders/extensions/julialang.language-julia-insider-1.6.17/scripts/notebook/notebook.jl:32\n",
      " [12] include(mod::Module, _path::String)\n",
      "    @ Base ./Base.jl:418\n",
      " [13] exec_options(opts::Base.JLOptions)\n",
      "    @ Base ./client.jl:292\n",
      " [14] _start()\n",
      "    @ Base ./client.jl:495"
     ]
    }
   ],
   "source": [
    "H = genentropy(1, 0.1, tr)"
   ]
  },
  {
   "cell_type": "code",
   "execution_count": 35,
   "metadata": {},
   "outputs": [
    {
     "data": {
      "text/plain": [
       "9.90353755128635"
      ]
     },
     "execution_count": 35,
     "metadata": {},
     "output_type": "execute_result"
    }
   ],
   "source": [
    "H = genentropy(1, 0.01, tr)"
   ]
  },
  {
   "cell_type": "markdown",
   "metadata": {},
   "source": [
    "This quantity is interesting because it can be used to calculate the fractal dimension of the `tr` object. The way it works is simple: You look at how `H` changes for varying `ε`. If `D` is the fractal dimension of `tr`, then it typically holds that `H ~ ε^(-D)`. \n",
    "\n",
    "In reality what one does is calculate `H` for many different `ε` and plot the result, and then _manually_ identify the slope of the curve `H` vs. `-log(ε)`. e.g.:"
   ]
  },
  {
   "cell_type": "code",
   "execution_count": 36,
   "metadata": {},
   "outputs": [
    {
     "data": {
      "text/plain": [
       "33-element Array{Float64,1}:\n",
       "  9.90353755128635  \n",
       "  9.90353755128635  \n",
       "  9.90353755128635  \n",
       "  9.90353755128635  \n",
       "  9.90353755128635  \n",
       "  9.90353755128635  \n",
       "  9.90353755128635  \n",
       "  9.90353755128635  \n",
       "  9.90312168377139  \n",
       "  9.900557167429135 \n",
       "  9.891269459595035 \n",
       "  9.860042707793426 \n",
       "  9.78074383756112  \n",
       "  ⋮                 \n",
       "  2.702396852726326 \n",
       "  1.9641564466046155\n",
       "  0.821385539477985 \n",
       " -0.0               \n",
       " -0.0               \n",
       " -0.0               \n",
       " -0.0               \n",
       " -0.0               \n",
       " -0.0               \n",
       " -0.0               \n",
       " -0.0               \n",
       " -0.0               "
      ]
     },
     "execution_count": 36,
     "metadata": {},
     "output_type": "execute_result"
    }
   ],
   "source": [
    "εs = ℯ .^ (-8:0.5:8) # \\euler<TAB} = ℯ\n",
    "Hs = genentropy.(1, εs, Ref(tr))"
   ]
  },
  {
   "cell_type": "markdown",
   "metadata": {},
   "source": [
    "What we did above is use broadcasting (the `.` syntax), to calculate the entropy for every `ε` value. What's with the `Ref()`? This `Ref()` specifies that its argument `tr` shoud **not** be broadcasted over. Since both `ε` as well as `tr` are iterable, Julia would normally try to broadcast across both arguments, which we don't want in this case.\n",
    "\n",
    "Anyway, this is the plot:"
   ]
  },
  {
   "cell_type": "code",
   "execution_count": 37,
   "metadata": {},
   "outputs": [
    {
     "data": {
      "image/png": "[encoded data removed]",
      "text/plain": [
       "Figure(PyObject <Figure size 500x300 with 1 Axes>)"
      ]
     },
     "metadata": {},
     "output_type": "display_data"
    }
   ],
   "source": [
    "xs = -log.(εs)\n",
    "plot(xs, Hs)\n",
    "xlabel(\"-log(ε)\"); ylabel(\"H\");"
   ]
  },
  {
   "cell_type": "markdown",
   "metadata": {},
   "source": [
    "And one can clearly identify a region in the middle which has the slope of `D`, the fractal dimension of `tr`. But in case you are not really happy with eyeballing this, you can use the function `linear_regions(x, y)` which takes in the curve `y(x)` and decomposes it to approximately independent linear regions.\n",
    "\n",
    "Let's see the result with some nice color coding:"
   ]
  },
  {
   "cell_type": "code",
   "execution_count": 38,
   "metadata": {},
   "outputs": [
    {
     "data": {
      "image/png": "[encoded data removed]",
      "text/plain": [
       "Figure(PyObject <Figure size 500x300 with 1 Axes>)"
      ]
     },
     "metadata": {},
     "output_type": "display_data"
    }
   ],
   "source": [
    "lrs, slopes = linear_regions(xs, Hs, tol = 0.25)\n",
    "\n",
    "for i in 1:length(lrs)-1\n",
    "    plot(xs[lrs[i]:lrs[i+1]], Hs[lrs[i]:lrs[i+1]], marker = \"o\", \n",
    "        label = i > 7 ? \"slope $(round(slopes[i]; digits = 3))\" : \"\")\n",
    "end\n",
    "xlabel(\"-log(ε)\"); ylabel(\"H\"); legend();"
   ]
  },
  {
   "cell_type": "markdown",
   "metadata": {},
   "source": [
    "So here we would get the value `1.939` as the fractal dimension, which is easily accessible as "
   ]
  },
  {
   "cell_type": "code",
   "execution_count": 39,
   "metadata": {},
   "outputs": [
    {
     "data": {
      "text/plain": [
       "1.9387874361172148"
      ]
     },
     "execution_count": 39,
     "metadata": {},
     "output_type": "execute_result"
    }
   ],
   "source": [
    "D = maximum(slopes)"
   ]
  },
  {
   "cell_type": "markdown",
   "metadata": {},
   "source": [
    "# 3. Distributions.jl\n",
    "\n",
    "The [`Distributions`](https://juliastats.org/Distributions.jl/stable/) package provides an interface for writing distribution-agnostic code: sampling distributions and getting pdfs, using moments, and more. This means that you can write any code that uses a probability distribution without having to care about the distribution's specifics. The result: your code can be run with _any_ probability distribution!\n",
    "\n",
    "The way it works is quite straightforward: `Distributions` provides a unified API around abstract types representing probability distributions. To keep things simple here we (a) limit ourselfes to univariate distributions and (b) assume that the highest level of this abstract hierarchy is `UnivariateDistribution`."
   ]
  },
  {
   "cell_type": "code",
   "execution_count": 39,
   "metadata": {},
   "outputs": [
    {
     "data": {
      "text/plain": [
       "UnivariateDistribution (alias for Distribution{ArrayLikeVariate{0}})"
      ]
     },
     "metadata": {},
     "output_type": "display_data"
    }
   ],
   "source": [
    "using Distributions\n",
    "x = -1:0.01:1\n",
    "UnivariateDistribution"
   ]
  },
  {
   "cell_type": "markdown",
   "metadata": {},
   "source": [
    "Here are some example univariate distributions:"
   ]
  },
  {
   "cell_type": "code",
   "execution_count": 41,
   "metadata": {},
   "outputs": [
    {
     "data": {
      "text/plain": [
       "Normal{Float64}(μ=0.1, σ=0.25)"
      ]
     },
     "execution_count": 41,
     "metadata": {},
     "output_type": "execute_result"
    }
   ],
   "source": [
    "d = Normal(0.1, 0.25)"
   ]
  },
  {
   "cell_type": "code",
   "execution_count": 42,
   "metadata": {},
   "outputs": [
    {
     "data": {
      "image/png": "[encoded data removed]",
      "text/plain": [
       "Figure(PyObject <Figure size 500x300 with 1 Axes>)"
      ]
     },
     "metadata": {},
     "output_type": "display_data"
    }
   ],
   "source": [
    "plot(x, pdf.(d, x)); # pdf(::Distribution, x) gives the pdf at x"
   ]
  },
  {
   "cell_type": "code",
   "execution_count": 43,
   "metadata": {
    "scrolled": true
   },
   "outputs": [
    {
     "data": {
      "image/png": "[encoded data removed]",
      "text/plain": [
       "Figure(PyObject <Figure size 500x300 with 1 Axes>)"
      ]
     },
     "metadata": {},
     "output_type": "display_data"
    }
   ],
   "source": [
    "cauchy = Cauchy(0.5, 0.25)\n",
    "plot(x, pdf.(cauchy, x));"
   ]
  },
  {
   "cell_type": "markdown",
   "metadata": {},
   "source": [
    "You can also create your own distribution by extending a small amount of methods. \n",
    "\n",
    "Okay, so where are these distributions useful? Well, you can for example use `rand(::Distribution, ...)` and sample random numbers from an arbitrary distribution:"
   ]
  },
  {
   "cell_type": "code",
   "execution_count": 44,
   "metadata": {},
   "outputs": [
    {
     "data": {
      "text/plain": [
       "0.6411208610416594"
      ]
     },
     "execution_count": 44,
     "metadata": {},
     "output_type": "execute_result"
    }
   ],
   "source": [
    "rand(cauchy)"
   ]
  },
  {
   "cell_type": "code",
   "execution_count": 45,
   "metadata": {},
   "outputs": [
    {
     "data": {
      "text/plain": [
       "10×10 Array{Float64,2}:\n",
       " -0.0945251   0.684076  0.466336   …  0.422561   0.522409   -1.76902 \n",
       "  4.8943     -1.42156   0.533809      0.659961   0.500381    0.339564\n",
       "  0.496773    1.76202   0.623583      1.38527    0.509958    0.476158\n",
       "  0.153889    0.309391  0.706236      0.526716  -0.658566  -31.2724  \n",
       "  1.18274     0.938097  0.49508       0.553075   0.313847    0.34469 \n",
       "  0.619908    0.4957    0.349988   …  2.06727    0.355546    0.848048\n",
       "  0.52721     0.247744  0.477669      0.772037   0.93203     0.511023\n",
       "  0.214352    0.83484   2.49486       0.404149   0.834677    0.753976\n",
       "  0.352015    2.12321   0.690749      0.186116   0.644478    0.414438\n",
       "  0.739386    0.366461  0.0252278     0.229541   1.4945     -1.28772 "
      ]
     },
     "execution_count": 45,
     "metadata": {},
     "output_type": "execute_result"
    }
   ],
   "source": [
    "rand(cauchy, 10, 10)"
   ]
  },
  {
   "cell_type": "markdown",
   "metadata": {},
   "source": [
    "Or, you can use the `fit` function, to fit a distribution to an e.g. experimental measurement:"
   ]
  },
  {
   "cell_type": "code",
   "execution_count": 46,
   "metadata": {},
   "outputs": [
    {
     "data": {
      "text/plain": [
       "Normal{Float64}(μ=-0.008417643639840577, σ=0.9899834868193246)"
      ]
     },
     "execution_count": 46,
     "metadata": {},
     "output_type": "execute_result"
    }
   ],
   "source": [
    "x = randn(5000);\n",
    "fit(Normal, x)"
   ]
  },
  {
   "cell_type": "code",
   "execution_count": 47,
   "metadata": {},
   "outputs": [
    {
     "data": {
      "text/plain": [
       "Cauchy{Float64}(μ=-0.006922149389176409, σ=0.6748085966702937)"
      ]
     },
     "execution_count": 47,
     "metadata": {},
     "output_type": "execute_result"
    }
   ],
   "source": [
    "cauchyfit = fit(Cauchy, x)"
   ]
  },
  {
   "cell_type": "code",
   "execution_count": 48,
   "metadata": {},
   "outputs": [
    {
     "data": {
      "text/plain": [
       "(-0.006922149389176409, 0.6748085966702937)"
      ]
     },
     "execution_count": 48,
     "metadata": {},
     "output_type": "execute_result"
    }
   ],
   "source": [
    "params(cauchyfit)"
   ]
  },
  {
   "cell_type": "code",
   "execution_count": 49,
   "metadata": {},
   "outputs": [
    {
     "data": {
      "image/png": "[encoded data removed]",
      "text/plain": [
       "Figure(PyObject <Figure size 500x300 with 1 Axes>)"
      ]
     },
     "metadata": {},
     "output_type": "display_data"
    }
   ],
   "source": [
    "hist(x, 50, alpha = 0.5, density = true)\n",
    "scatter(x, pdf.(cauchyfit, x), color = \"C1\");"
   ]
  },
  {
   "cell_type": "markdown",
   "metadata": {},
   "source": [
    "Of course, other fundamental statistical measures, e.g. means, stds, quantiles, work out of the box for any distribution"
   ]
  },
  {
   "cell_type": "code",
   "execution_count": 50,
   "metadata": {},
   "outputs": [
    {
     "data": {
      "text/plain": [
       "-0.006922149389176409"
      ]
     },
     "execution_count": 50,
     "metadata": {},
     "output_type": "execute_result"
    }
   ],
   "source": [
    "quantile(cauchyfit, 0.5)"
   ]
  },
  {
   "cell_type": "code",
   "execution_count": 51,
   "metadata": {},
   "outputs": [
    {
     "data": {
      "text/plain": [
       "2-element Array{Float64,1}:\n",
       " -4.267495948731982\n",
       "  4.253651649953623"
      ]
     },
     "execution_count": 51,
     "metadata": {},
     "output_type": "execute_result"
    }
   ],
   "source": [
    "quantile.(cauchyfit, [0.05, 0.95])"
   ]
  },
  {
   "cell_type": "code",
   "execution_count": 52,
   "metadata": {},
   "outputs": [
    {
     "data": {
      "text/plain": [
       "NaN"
      ]
     },
     "execution_count": 52,
     "metadata": {},
     "output_type": "execute_result"
    }
   ],
   "source": [
    "std(cauchyfit) # Cauchy distr. is known for NOT having finite std"
   ]
  },
  {
   "cell_type": "markdown",
   "metadata": {},
   "source": [
    "# 4. DrWatson\n",
    "\n",
    "[DrWatson](https://juliadynamics.github.io/DrWatson.jl/dev/) is a scientific project assistant software. It helps people deal with their scientific code base, allowing them to focus more on the science and less on the code management. DrWatson offers a lot of tools and functionality for this purpose, but here I'll only show a couple of them. \n",
    "\n",
    "*Disclaimer: I am one of the developers of DrWatson.*\n",
    "\n",
    "## FileIO\n",
    "\n",
    "Obviously, in order to do science, it is necessary to be able to save files to arbitrary formats and to be able to read them later. `FileIO` (which is used by `DrWatson`) is a Julia package that provides a unified API to save and load files to disk, without caring about their actual file ending type.\n",
    "\n",
    "The interface is as simple as:\n",
    "```julia\n",
    "using FileIO\n",
    "object = load(filename)\n",
    "save(filename, object)\n",
    "```\n",
    "where `filename` is a `String` (arbitrary path) that *includes* the file ending, e.g. `.hdf5`.\n",
    "\n",
    "`FileIO` does not actually install any packages that can save or load files! It provides the interface. If you try to save/load a file with an unsupported ending, `FileIO` will tell you that's impossible."
   ]
  },
  {
   "cell_type": "code",
   "execution_count": 53,
   "metadata": {
    "scrolled": true
   },
   "outputs": [
    {
     "data": {
      "text/plain": [
       "\"C:\\\\Users\\\\m300808\\\\ownCloud\\\\Zero2Hero-JuliaWorkshop\""
      ]
     },
     "execution_count": 53,
     "metadata": {},
     "output_type": "execute_result"
    }
   ],
   "source": [
    "using FileIO\n",
    "pwd() # state current working directory"
   ]
  },
  {
   "cell_type": "markdown",
   "metadata": {},
   "source": [
    "Most packages that can save data of arbitrary format expect the final object-to-be saved as a dictionary"
   ]
  },
  {
   "cell_type": "code",
   "execution_count": 54,
   "metadata": {},
   "outputs": [
    {
     "data": {
      "text/plain": [
       "Dict{String,Int64} with 2 entries:\n",
       "  \"b\" => 4\n",
       "  \"a\" => 5"
      ]
     },
     "execution_count": 54,
     "metadata": {},
     "output_type": "execute_result"
    }
   ],
   "source": [
    "testdata = Dict(\"a\" => 5, \"b\" => 4)"
   ]
  },
  {
   "cell_type": "code",
   "execution_count": 55,
   "metadata": {},
   "outputs": [
    {
     "name": "stderr",
     "output_type": "stream",
     "text": [
      "Error encountered while saving \"test.jld2\".\n",
      "\n",
      "Fatal error:\n"
     ]
    },
    {
     "ename": "ArgumentError",
     "evalue": "ArgumentError: Package JLD2 not found in current path:\n- Run `import Pkg; Pkg.add(\"JLD2\")` to install the JLD2 package.\n",
     "output_type": "error",
     "traceback": [
      "ArgumentError: Package JLD2 not found in current path:\n- Run `import Pkg; Pkg.add(\"JLD2\")` to install the JLD2 package.\n",
      "",
      "Stacktrace:",
      " [1] handle_error(::ArgumentError, ::File{DataFormat{:JLD2}}) at C:\\Users\\m300808\\.julia\\packages\\FileIO\\BcdlR\\src\\error_handling.jl:82",
      " [2] handle_exceptions(::Array{Any,1}, ::String) at C:\\Users\\m300808\\.julia\\packages\\FileIO\\BcdlR\\src\\error_handling.jl:77",
      " [3] #save#30(::Base.Iterators.Pairs{Union{},Union{},Tuple{},NamedTuple{(),Tuple{}}}, ::typeof(save), ::Formatted, ::Any) at C:\\Users\\m300808\\.julia\\packages\\FileIO\\BcdlR\\src\\loadsave.jl:213",
      " [4] save at C:\\Users\\m300808\\.julia\\packages\\FileIO\\BcdlR\\src\\loadsave.jl:196 [inlined]",
      " [5] #save#15 at C:\\Users\\m300808\\.julia\\packages\\FileIO\\BcdlR\\src\\loadsave.jl:118 [inlined]",
      " [6] save(::String, ::Dict{String,Int64}) at C:\\Users\\m300808\\.julia\\packages\\FileIO\\BcdlR\\src\\loadsave.jl:118",
      " [7] top-level scope at In[55]:1"
     ]
    }
   ],
   "source": [
    "# I don't have JLD2 installed:\n",
    "save(\"test.jld2\", testdata)"
   ]
  },
  {
   "cell_type": "code",
   "execution_count": 56,
   "metadata": {},
   "outputs": [],
   "source": [
    "# Here I use BSON, which I have installed\n",
    "save(\"test.bson\", testdata)"
   ]
  },
  {
   "cell_type": "code",
   "execution_count": 57,
   "metadata": {},
   "outputs": [
    {
     "data": {
      "text/plain": [
       "Dict{String,Int64} with 2 entries:\n",
       "  \"b\" => 4\n",
       "  \"a\" => 5"
      ]
     },
     "execution_count": 57,
     "metadata": {},
     "output_type": "execute_result"
    }
   ],
   "source": [
    "testdata = load(\"test.bson\")"
   ]
  },
  {
   "cell_type": "code",
   "execution_count": 58,
   "metadata": {},
   "outputs": [],
   "source": [
    "rm(\"test.bson\") # delete the file"
   ]
  },
  {
   "cell_type": "markdown",
   "metadata": {},
   "source": [
    "## Savename\n",
    "\n",
    "When saving files, scientists often want to include the parameter values of the simulations in the name of the file. For example, If I had run a simulation with parameters:"
   ]
  },
  {
   "cell_type": "code",
   "execution_count": 59,
   "metadata": {},
   "outputs": [
    {
     "data": {
      "text/plain": [
       "(1, 2, 3)"
      ]
     },
     "execution_count": 59,
     "metadata": {},
     "output_type": "execute_result"
    }
   ],
   "source": [
    "a, b, c = 1, 2, 3"
   ]
  },
  {
   "cell_type": "markdown",
   "metadata": {},
   "source": [
    "I would like to save my simulation as e.g. `sim_a=1_b=2_c=3.bson`. This can be achieved with string interpolation like so"
   ]
  },
  {
   "cell_type": "code",
   "execution_count": 60,
   "metadata": {},
   "outputs": [
    {
     "data": {
      "text/plain": [
       "\"sim_a=1_b=2_c=3.bson\""
      ]
     },
     "execution_count": 60,
     "metadata": {},
     "output_type": "execute_result"
    }
   ],
   "source": [
    "filename = \"sim_a=$(a)_b=$(b)_c=$(c).bson\""
   ]
  },
  {
   "cell_type": "markdown",
   "metadata": {},
   "source": [
    "This works, but besides being tedius, it is not extendable: if I have a different simulation, with different parameter names, I have to modify this command.\n",
    "\n",
    "This is where DrWatson comes in: it provides a tool, called `savename`, that takes as an input **any Julia container** and converts it into a `key=value` chain. It works with dictionaries and arbitrary Julia composite types (it would work with the `Animal` we defined in the previous session). For example:"
   ]
  },
  {
   "cell_type": "code",
   "execution_count": 61,
   "metadata": {},
   "outputs": [
    {
     "data": {
      "text/plain": [
       "Dict{Symbol,Int64} with 3 entries:\n",
       "  :a => 1\n",
       "  :b => 2\n",
       "  :c => 3"
      ]
     },
     "execution_count": 61,
     "metadata": {},
     "output_type": "execute_result"
    }
   ],
   "source": [
    "using DrWatson\n",
    "# the @dict command makes a dictionary from the given variable names\n",
    "# @dict is a \"macro\", something we won't talk about in this workshop\n",
    "pars = @dict a b c"
   ]
  },
  {
   "cell_type": "code",
   "execution_count": 62,
   "metadata": {},
   "outputs": [
    {
     "data": {
      "text/plain": [
       "\"a=1_b=2_c=3\""
      ]
     },
     "execution_count": 62,
     "metadata": {},
     "output_type": "execute_result"
    }
   ],
   "source": [
    "savename(pars)"
   ]
  },
  {
   "cell_type": "markdown",
   "metadata": {},
   "source": [
    "You can also call `savename` with prefix and suffix"
   ]
  },
  {
   "cell_type": "code",
   "execution_count": 63,
   "metadata": {},
   "outputs": [
    {
     "data": {
      "text/plain": [
       "\"prefix_a=1_b=2_c=3_model=linear.bson\""
      ]
     },
     "execution_count": 63,
     "metadata": {},
     "output_type": "execute_result"
    }
   ],
   "source": [
    "model = \"linear\"\n",
    "pars = @dict a b c model\n",
    "savename(\"prefix\", pars, \"bson\")"
   ]
  },
  {
   "cell_type": "markdown",
   "metadata": {},
   "source": [
    "`savename` is highly customizable, and also extendable for your own types, while by default it makes some reasonable assumptions about what should and should not be put into the this name. For example, if you had a vector of numbers as part of your parameters, you probably don't want to include it into the savename (by default)"
   ]
  },
  {
   "cell_type": "code",
   "execution_count": 64,
   "metadata": {},
   "outputs": [
    {
     "data": {
      "text/plain": [
       "Dict{Symbol,Any} with 5 entries:\n",
       "  :a     => 1\n",
       "  :b     => 2\n",
       "  :v     => [1, 2, 3, 4, 5, 6, 7, 8, 9, 10]\n",
       "  :c     => 3\n",
       "  :model => \"linear\""
      ]
     },
     "execution_count": 64,
     "metadata": {},
     "output_type": "execute_result"
    }
   ],
   "source": [
    "pars[:v] = collect(1:10)\n",
    "pars"
   ]
  },
  {
   "cell_type": "code",
   "execution_count": 65,
   "metadata": {},
   "outputs": [
    {
     "data": {
      "text/plain": [
       "\"a=1_b=2_c=3_model=linear\""
      ]
     },
     "execution_count": 65,
     "metadata": {},
     "output_type": "execute_result"
    }
   ],
   "source": [
    "savename(pars)"
   ]
  },
  {
   "cell_type": "markdown",
   "metadata": {},
   "source": [
    "But you _could_ if you really wanted to:"
   ]
  },
  {
   "cell_type": "code",
   "execution_count": 66,
   "metadata": {},
   "outputs": [
    {
     "data": {
      "text/plain": [
       "\"a=1_b=2_c=3_model=linear_v=[1, 2, 3, 4, 5, 6, 7, 8, 9, 10].bson\""
      ]
     },
     "execution_count": 66,
     "metadata": {},
     "output_type": "execute_result"
    }
   ],
   "source": [
    "savename(pars, \"bson\"; allowedtypes = (Real, String, Vector))"
   ]
  },
  {
   "cell_type": "markdown",
   "metadata": {},
   "source": [
    "`savename` is also convenient for creating titles for figures, by using a different connector:"
   ]
  },
  {
   "cell_type": "code",
   "execution_count": 67,
   "metadata": {},
   "outputs": [
    {
     "data": {
      "text/plain": [
       "\"Simulation, a=1, b=2, c=3, model=linear\""
      ]
     },
     "execution_count": 67,
     "metadata": {},
     "output_type": "execute_result"
    }
   ],
   "source": [
    "savename(\"Simulation\", pars; connector = \", \")"
   ]
  },
  {
   "cell_type": "markdown",
   "metadata": {},
   "source": [
    "## Saving tools\n",
    "\n",
    "DrWatson offers some tools that are useful when saving files. The first is\n",
    "`tagsave`, which modifies the dictionary-to-be-saved by adding additional infromation about the current status of the Git repository of the project (if there exists a Git repository). This allows for reproducibility. For example (notice that `pwd()` is the path of a Git repository)"
   ]
  },
  {
   "cell_type": "code",
   "execution_count": 68,
   "metadata": {},
   "outputs": [
    {
     "name": "stderr",
     "output_type": "stream",
     "text": [
      "┌ Warning: The Git repository is dirty! Appending _dirty to the commit ID\n",
      "└ @ DrWatson C:\\Users\\m300808\\.julia\\dev\\DrWatson\\src\\saving_tools.jl:60\n",
      "┌ Warning: `gitpatch` failed with error Base.IOError(\"could not spawn `git --git-dir=C:/Users/m300808/ownCloud/Zero2Hero-JuliaWorkshop/.git --work-tree=C:/Users/m300808/ownCloud/Zero2Hero-JuliaWorkshop diff HEAD`: no such file or directory (ENOENT)\", -4058), returning `nothing` instead.\n",
      "└ @ DrWatson C:\\Users\\m300808\\.julia\\dev\\DrWatson\\src\\saving_tools.jl:97\n"
     ]
    },
    {
     "data": {
      "text/plain": [
       "Dict{Symbol,Any} with 7 entries:\n",
       "  :a         => 1\n",
       "  :b         => 2\n",
       "  :v         => [1, 2, 3, 4, 5, 6, 7, 8, 9, 10]\n",
       "  :c         => 3\n",
       "  :gitcommit => \"ff94fd2b9208e5849bd5e7c12781ffd49a8f9755_dirty\"\n",
       "  :model     => \"linear\"\n",
       "  :gitpatch  => nothing"
      ]
     },
     "execution_count": 68,
     "metadata": {},
     "output_type": "execute_result"
    }
   ],
   "source": [
    "tagsave(\"test.bson\", copy(pars); gitpath = pwd())\n",
    "load(\"test.bson\")"
   ]
  },
  {
   "cell_type": "markdown",
   "metadata": {},
   "source": [
    "You can see that the Git commit ID was included in the saved file!"
   ]
  },
  {
   "cell_type": "markdown",
   "metadata": {},
   "source": [
    "Another useful tool is `safesave`. We all know how **devastating** it can be to by-mistake overwrite an existing simulation because you saved a new simulation with the same name... `safesave` comes to the rescue because it ensures that no files are overwritten but also all files are saved!\n",
    "\n",
    "It works like this:\n",
    "```julia\n",
    "safesave(\"test.bson\", ...)\n",
    "```\n",
    "if `\"test.bson\"` exists, rename it to `test_#1.bson` (and do this recursively if `test_#1.bson` also exists, by incrementing the number after the `#`). Then, save the current data as `test.bson`."
   ]
  },
  {
   "cell_type": "code",
   "execution_count": 69,
   "metadata": {},
   "outputs": [],
   "source": [
    "safesave(\"test.bson\", pars)\n",
    "safesave(\"test.bson\", pars)\n",
    "safesave(\"test.bson\", pars)"
   ]
  },
  {
   "cell_type": "code",
   "execution_count": 70,
   "metadata": {},
   "outputs": [
    {
     "data": {
      "text/plain": [
       "16-element Array{String,1}:\n",
       " \".git\"                    \n",
       " \".gitignore\"              \n",
       " \".ipynb_checkpoints\"      \n",
       " \"1-JuliaBasics.ipynb\"     \n",
       " \"2-MultipleDispatch.ipynb\"\n",
       " \"3-Ecosystem.ipynb\"       \n",
       " \"add.jpg\"                 \n",
       " \"Julia advertisement.pdf\" \n",
       " \"Julia advertisement.pptx\"\n",
       " \"LICENSE.md\"              \n",
       " \"README.md\"               \n",
       " \"solutions.jl\"            \n",
       " \"test.bson\"               \n",
       " \"test_#1.bson\"            \n",
       " \"test_#2.bson\"            \n",
       " \"test_#3.bson\"            "
      ]
     },
     "execution_count": 70,
     "metadata": {},
     "output_type": "execute_result"
    }
   ],
   "source": [
    "readdir(pwd())"
   ]
  },
  {
   "cell_type": "code",
   "execution_count": 71,
   "metadata": {},
   "outputs": [],
   "source": [
    "# delete all files that end in \"bson\"\n",
    "[rm(f) for f in readdir(pwd()) if f[end-3:end] == \"bson\"];"
   ]
  },
  {
   "cell_type": "markdown",
   "metadata": {},
   "source": [
    "## Collecting results\n",
    "\n",
    "If you run several similar simulations with different parameters, you typically want to collect all of them in a tabular datastrcture to analyze further. You can use `collect_results` to automate the data collection process. \n",
    "\n",
    "Let's say we run first some simulations with varying parameters like so:"
   ]
  },
  {
   "cell_type": "code",
   "execution_count": 72,
   "metadata": {},
   "outputs": [],
   "source": [
    "model = \"linear\"\n",
    "for a in 1:2\n",
    "    for b in [2, 3]\n",
    "        # perform a fake simulation\n",
    "        r = a + b\n",
    "        # save it:\n",
    "        p = @dict a b r model\n",
    "        s = @dict a b model # the result \"r\" doesn't take part in the name\n",
    "        wsave(joinpath(\"data\", savename(s, \"bson\")), p)\n",
    "    end\n",
    "end"
   ]
  },
  {
   "cell_type": "markdown",
   "metadata": {},
   "source": [
    "Then we run a different model, which does not necessarily have the same parameters:"
   ]
  },
  {
   "cell_type": "code",
   "execution_count": 73,
   "metadata": {},
   "outputs": [],
   "source": [
    "model = \"cubic\"\n",
    "for a in 1:2\n",
    "    for d in [5, 6]\n",
    "        # perform a fake simulation\n",
    "        r = a + d^3\n",
    "        # save it:\n",
    "        p = @dict a d r model\n",
    "        s = @dict a d model # the result \"r\" doesn't take part in the name\n",
    "        wsave(joinpath(\"data\", savename(s, \"bson\")), p)\n",
    "    end\n",
    "end"
   ]
  },
  {
   "cell_type": "markdown",
   "metadata": {},
   "source": [
    "Now the idea is that we want to collect all of this results in a single tabular structure. We do with `collect_results(folder)`, which collects all results of the `folder` into a `DataFrame`. This is a tabular data structure (and thus we need the Julia package `DataFrames` to use it):"
   ]
  },
  {
   "cell_type": "code",
   "execution_count": 74,
   "metadata": {},
   "outputs": [
    {
     "name": "stderr",
     "output_type": "stream",
     "text": [
      "┌ Info: Precompiling DataFrames [a93c6f00-e57d-5684-b7b6-d8193f3e46c0]\n",
      "└ @ Base loading.jl:1273\n",
      "┌ Info: Scanning folder data for result files.\n",
      "└ @ DrWatson C:\\Users\\m300808\\.julia\\dev\\DrWatson\\src\\result_collection.jl:79\n",
      "┌ Info: Added 8 entries.\n",
      "└ @ DrWatson C:\\Users\\m300808\\.julia\\dev\\DrWatson\\src\\result_collection.jl:107\n"
     ]
    },
    {
     "data": {
      "text/html": [
       "<table class=\"data-frame\"><thead><tr><th></th><th>a</th><th>b</th><th>r</th><th>model</th><th>path</th><th>d</th></tr><tr><th></th><th>Int64⍰</th><th>Int64⍰</th><th>Int64⍰</th><th>String⍰</th><th>String⍰</th><th>Int64⍰</th></tr></thead><tbody><p>8 rows × 6 columns</p><tr><th>1</th><td>1</td><td>2</td><td>3</td><td>linear</td><td>data\\\\a=1_b=2_model=linear.bson</td><td>missing</td></tr><tr><th>2</th><td>1</td><td>3</td><td>4</td><td>linear</td><td>data\\\\a=1_b=3_model=linear.bson</td><td>missing</td></tr><tr><th>3</th><td>1</td><td>missing</td><td>126</td><td>cubic</td><td>data\\\\a=1_d=5_model=cubic.bson</td><td>5</td></tr><tr><th>4</th><td>1</td><td>missing</td><td>217</td><td>cubic</td><td>data\\\\a=1_d=6_model=cubic.bson</td><td>6</td></tr><tr><th>5</th><td>2</td><td>2</td><td>4</td><td>linear</td><td>data\\\\a=2_b=2_model=linear.bson</td><td>missing</td></tr><tr><th>6</th><td>2</td><td>3</td><td>5</td><td>linear</td><td>data\\\\a=2_b=3_model=linear.bson</td><td>missing</td></tr><tr><th>7</th><td>2</td><td>missing</td><td>127</td><td>cubic</td><td>data\\\\a=2_d=5_model=cubic.bson</td><td>5</td></tr><tr><th>8</th><td>2</td><td>missing</td><td>218</td><td>cubic</td><td>data\\\\a=2_d=6_model=cubic.bson</td><td>6</td></tr></tbody></table>"
      ],
      "text/latex": [
       "\\begin{tabular}{r|cccccc}\n",
       "\t& a & b & r & model & path & d\\\\\n",
       "\t\\hline\n",
       "\t& Int64⍰ & Int64⍰ & Int64⍰ & String⍰ & String⍰ & Int64⍰\\\\\n",
       "\t\\hline\n",
       "\t1 & 1 & 2 & 3 & linear & data\\textbackslash{}\\textbackslash{}a=1\\_b=2\\_model=linear.bson &  \\\\\n",
       "\t2 & 1 & 3 & 4 & linear & data\\textbackslash{}\\textbackslash{}a=1\\_b=3\\_model=linear.bson &  \\\\\n",
       "\t3 & 1 &  & 126 & cubic & data\\textbackslash{}\\textbackslash{}a=1\\_d=5\\_model=cubic.bson & 5 \\\\\n",
       "\t4 & 1 &  & 217 & cubic & data\\textbackslash{}\\textbackslash{}a=1\\_d=6\\_model=cubic.bson & 6 \\\\\n",
       "\t5 & 2 & 2 & 4 & linear & data\\textbackslash{}\\textbackslash{}a=2\\_b=2\\_model=linear.bson &  \\\\\n",
       "\t6 & 2 & 3 & 5 & linear & data\\textbackslash{}\\textbackslash{}a=2\\_b=3\\_model=linear.bson &  \\\\\n",
       "\t7 & 2 &  & 127 & cubic & data\\textbackslash{}\\textbackslash{}a=2\\_d=5\\_model=cubic.bson & 5 \\\\\n",
       "\t8 & 2 &  & 218 & cubic & data\\textbackslash{}\\textbackslash{}a=2\\_d=6\\_model=cubic.bson & 6 \\\\\n",
       "\\end{tabular}\n"
      ],
      "text/plain": [
       "8×6 DataFrame. Omitted printing of 1 columns\n",
       "│ Row │ a      │ b       │ r      │ model   │ path                            │\n",
       "│     │ \u001b[90mInt64⍰\u001b[39m │ \u001b[90mInt64⍰\u001b[39m  │ \u001b[90mInt64⍰\u001b[39m │ \u001b[90mString⍰\u001b[39m │ \u001b[90mUnion{Missing, String}\u001b[39m          │\n",
       "├─────┼────────┼─────────┼────────┼─────────┼─────────────────────────────────┤\n",
       "│ 1   │ 1      │ 2       │ 3      │ linear  │ data\\\\a=1_b=2_model=linear.bson │\n",
       "│ 2   │ 1      │ 3       │ 4      │ linear  │ data\\\\a=1_b=3_model=linear.bson │\n",
       "│ 3   │ 1      │ \u001b[90mmissing\u001b[39m │ 126    │ cubic   │ data\\\\a=1_d=5_model=cubic.bson  │\n",
       "│ 4   │ 1      │ \u001b[90mmissing\u001b[39m │ 217    │ cubic   │ data\\\\a=1_d=6_model=cubic.bson  │\n",
       "│ 5   │ 2      │ 2       │ 4      │ linear  │ data\\\\a=2_b=2_model=linear.bson │\n",
       "│ 6   │ 2      │ 3       │ 5      │ linear  │ data\\\\a=2_b=3_model=linear.bson │\n",
       "│ 7   │ 2      │ \u001b[90mmissing\u001b[39m │ 127    │ cubic   │ data\\\\a=2_d=5_model=cubic.bson  │\n",
       "│ 8   │ 2      │ \u001b[90mmissing\u001b[39m │ 218    │ cubic   │ data\\\\a=2_d=6_model=cubic.bson  │"
      ]
     },
     "execution_count": 74,
     "metadata": {},
     "output_type": "execute_result"
    }
   ],
   "source": [
    "using DataFrames\n",
    "results = collect_results(\"data\")"
   ]
  },
  {
   "cell_type": "markdown",
   "metadata": {},
   "source": [
    "So `collect_results` collected all files, but also did something extra, something very useful. Simulation parameters that do not exist in one run (see `b` vs `d`) have the value `missing`. `missing` is how Julia represents missing values."
   ]
  },
  {
   "cell_type": "code",
   "execution_count": 75,
   "metadata": {},
   "outputs": [],
   "source": [
    "# delete all fake data (they are loaded in memory)\n",
    "rm(\"data\"; recursive = true)"
   ]
  },
  {
   "cell_type": "markdown",
   "metadata": {},
   "source": [
    "# 5. Tabular data\n",
    "\n",
    "The `result` that we got above is a `DataFrame` from [DataFrames.jl](http://juliadata.github.io/DataFrames.jl/stable/), one of the major Julia packages for tabular data. \n",
    "\n",
    "## Basic stuff\n",
    "One can do basic selection of these data, for example selecting specific columns, removing columns, adding new columns or rows, etc. The `path` column of the `results` is not so useful, so let's remove it:"
   ]
  },
  {
   "cell_type": "code",
   "execution_count": 76,
   "metadata": {},
   "outputs": [
    {
     "data": {
      "text/html": [
       "<table class=\"data-frame\"><thead><tr><th></th><th>a</th><th>b</th><th>r</th><th>model</th><th>d</th></tr><tr><th></th><th>Int64⍰</th><th>Int64⍰</th><th>Int64⍰</th><th>String⍰</th><th>Int64⍰</th></tr></thead><tbody><p>8 rows × 5 columns</p><tr><th>1</th><td>1</td><td>2</td><td>3</td><td>linear</td><td>missing</td></tr><tr><th>2</th><td>1</td><td>3</td><td>4</td><td>linear</td><td>missing</td></tr><tr><th>3</th><td>1</td><td>missing</td><td>126</td><td>cubic</td><td>5</td></tr><tr><th>4</th><td>1</td><td>missing</td><td>217</td><td>cubic</td><td>6</td></tr><tr><th>5</th><td>2</td><td>2</td><td>4</td><td>linear</td><td>missing</td></tr><tr><th>6</th><td>2</td><td>3</td><td>5</td><td>linear</td><td>missing</td></tr><tr><th>7</th><td>2</td><td>missing</td><td>127</td><td>cubic</td><td>5</td></tr><tr><th>8</th><td>2</td><td>missing</td><td>218</td><td>cubic</td><td>6</td></tr></tbody></table>"
      ],
      "text/latex": [
       "\\begin{tabular}{r|ccccc}\n",
       "\t& a & b & r & model & d\\\\\n",
       "\t\\hline\n",
       "\t& Int64⍰ & Int64⍰ & Int64⍰ & String⍰ & Int64⍰\\\\\n",
       "\t\\hline\n",
       "\t1 & 1 & 2 & 3 & linear &  \\\\\n",
       "\t2 & 1 & 3 & 4 & linear &  \\\\\n",
       "\t3 & 1 &  & 126 & cubic & 5 \\\\\n",
       "\t4 & 1 &  & 217 & cubic & 6 \\\\\n",
       "\t5 & 2 & 2 & 4 & linear &  \\\\\n",
       "\t6 & 2 & 3 & 5 & linear &  \\\\\n",
       "\t7 & 2 &  & 127 & cubic & 5 \\\\\n",
       "\t8 & 2 &  & 218 & cubic & 6 \\\\\n",
       "\\end{tabular}\n"
      ],
      "text/plain": [
       "8×5 DataFrame\n",
       "│ Row │ a      │ b       │ r      │ model   │ d       │\n",
       "│     │ \u001b[90mInt64⍰\u001b[39m │ \u001b[90mInt64⍰\u001b[39m  │ \u001b[90mInt64⍰\u001b[39m │ \u001b[90mString⍰\u001b[39m │ \u001b[90mInt64⍰\u001b[39m  │\n",
       "├─────┼────────┼─────────┼────────┼─────────┼─────────┤\n",
       "│ 1   │ 1      │ 2       │ 3      │ linear  │ \u001b[90mmissing\u001b[39m │\n",
       "│ 2   │ 1      │ 3       │ 4      │ linear  │ \u001b[90mmissing\u001b[39m │\n",
       "│ 3   │ 1      │ \u001b[90mmissing\u001b[39m │ 126    │ cubic   │ 5       │\n",
       "│ 4   │ 1      │ \u001b[90mmissing\u001b[39m │ 217    │ cubic   │ 6       │\n",
       "│ 5   │ 2      │ 2       │ 4      │ linear  │ \u001b[90mmissing\u001b[39m │\n",
       "│ 6   │ 2      │ 3       │ 5      │ linear  │ \u001b[90mmissing\u001b[39m │\n",
       "│ 7   │ 2      │ \u001b[90mmissing\u001b[39m │ 127    │ cubic   │ 5       │\n",
       "│ 8   │ 2      │ \u001b[90mmissing\u001b[39m │ 218    │ cubic   │ 6       │"
      ]
     },
     "execution_count": 76,
     "metadata": {},
     "output_type": "execute_result"
    }
   ],
   "source": [
    "select!(results, Not(:path))"
   ]
  },
  {
   "cell_type": "markdown",
   "metadata": {},
   "source": [
    "To access specific rows or colums you can access a dataframe like a matrix, e.g. `df[:, 1:3]` gives the first three rows while `df[:, [:a, :b]]` gives the rows selected by name.\n",
    "\n",
    "Adding new data to a dataframe is also straight forward. One can add new rows or new columns. New rows are added by either providing a vector (where the vector's length matches the number of columns), or by providing a named tuple that explicitly names which column gets which new value."
   ]
  },
  {
   "cell_type": "code",
   "execution_count": 77,
   "metadata": {},
   "outputs": [
    {
     "data": {
      "text/html": [
       "<table class=\"data-frame\"><thead><tr><th></th><th>a</th><th>b</th><th>r</th></tr><tr><th></th><th>Int64⍰</th><th>Int64⍰</th><th>Int64⍰</th></tr></thead><tbody><p>3 rows × 3 columns</p><tr><th>1</th><td>1</td><td>2</td><td>3</td></tr><tr><th>2</th><td>1</td><td>3</td><td>4</td></tr><tr><th>3</th><td>1</td><td>missing</td><td>126</td></tr></tbody></table>"
      ],
      "text/latex": [
       "\\begin{tabular}{r|ccc}\n",
       "\t& a & b & r\\\\\n",
       "\t\\hline\n",
       "\t& Int64⍰ & Int64⍰ & Int64⍰\\\\\n",
       "\t\\hline\n",
       "\t1 & 1 & 2 & 3 \\\\\n",
       "\t2 & 1 & 3 & 4 \\\\\n",
       "\t3 & 1 &  & 126 \\\\\n",
       "\\end{tabular}\n"
      ],
      "text/plain": [
       "3×3 DataFrame\n",
       "│ Row │ a      │ b       │ r      │\n",
       "│     │ \u001b[90mInt64⍰\u001b[39m │ \u001b[90mInt64⍰\u001b[39m  │ \u001b[90mInt64⍰\u001b[39m │\n",
       "├─────┼────────┼─────────┼────────┤\n",
       "│ 1   │ 1      │ 2       │ 3      │\n",
       "│ 2   │ 1      │ 3       │ 4      │\n",
       "│ 3   │ 1      │ \u001b[90mmissing\u001b[39m │ 126    │"
      ]
     },
     "execution_count": 77,
     "metadata": {},
     "output_type": "execute_result"
    }
   ],
   "source": [
    "df1 = results[1:3, 1:3]"
   ]
  },
  {
   "cell_type": "code",
   "execution_count": 78,
   "metadata": {},
   "outputs": [
    {
     "data": {
      "text/html": [
       "<table class=\"data-frame\"><thead><tr><th></th><th>a</th><th>b</th><th>r</th></tr><tr><th></th><th>Int64⍰</th><th>Int64⍰</th><th>Int64⍰</th></tr></thead><tbody><p>4 rows × 3 columns</p><tr><th>1</th><td>1</td><td>2</td><td>3</td></tr><tr><th>2</th><td>1</td><td>3</td><td>4</td></tr><tr><th>3</th><td>1</td><td>missing</td><td>126</td></tr><tr><th>4</th><td>5</td><td>5</td><td>5</td></tr></tbody></table>"
      ],
      "text/latex": [
       "\\begin{tabular}{r|ccc}\n",
       "\t& a & b & r\\\\\n",
       "\t\\hline\n",
       "\t& Int64⍰ & Int64⍰ & Int64⍰\\\\\n",
       "\t\\hline\n",
       "\t1 & 1 & 2 & 3 \\\\\n",
       "\t2 & 1 & 3 & 4 \\\\\n",
       "\t3 & 1 &  & 126 \\\\\n",
       "\t4 & 5 & 5 & 5 \\\\\n",
       "\\end{tabular}\n"
      ],
      "text/plain": [
       "4×3 DataFrame\n",
       "│ Row │ a      │ b       │ r      │\n",
       "│     │ \u001b[90mInt64⍰\u001b[39m │ \u001b[90mInt64⍰\u001b[39m  │ \u001b[90mInt64⍰\u001b[39m │\n",
       "├─────┼────────┼─────────┼────────┤\n",
       "│ 1   │ 1      │ 2       │ 3      │\n",
       "│ 2   │ 1      │ 3       │ 4      │\n",
       "│ 3   │ 1      │ \u001b[90mmissing\u001b[39m │ 126    │\n",
       "│ 4   │ 5      │ 5       │ 5      │"
      ]
     },
     "execution_count": 78,
     "metadata": {},
     "output_type": "execute_result"
    }
   ],
   "source": [
    "# add new row by order of columns\n",
    "push!(df1, [5, 5, 5])"
   ]
  },
  {
   "cell_type": "code",
   "execution_count": 79,
   "metadata": {},
   "outputs": [
    {
     "data": {
      "text/html": [
       "<table class=\"data-frame\"><thead><tr><th></th><th>a</th><th>b</th><th>r</th></tr><tr><th></th><th>Int64⍰</th><th>Int64⍰</th><th>Int64⍰</th></tr></thead><tbody><p>5 rows × 3 columns</p><tr><th>1</th><td>1</td><td>2</td><td>3</td></tr><tr><th>2</th><td>1</td><td>3</td><td>4</td></tr><tr><th>3</th><td>1</td><td>missing</td><td>126</td></tr><tr><th>4</th><td>5</td><td>5</td><td>5</td></tr><tr><th>5</th><td>-5</td><td>7</td><td>89</td></tr></tbody></table>"
      ],
      "text/latex": [
       "\\begin{tabular}{r|ccc}\n",
       "\t& a & b & r\\\\\n",
       "\t\\hline\n",
       "\t& Int64⍰ & Int64⍰ & Int64⍰\\\\\n",
       "\t\\hline\n",
       "\t1 & 1 & 2 & 3 \\\\\n",
       "\t2 & 1 & 3 & 4 \\\\\n",
       "\t3 & 1 &  & 126 \\\\\n",
       "\t4 & 5 & 5 & 5 \\\\\n",
       "\t5 & -5 & 7 & 89 \\\\\n",
       "\\end{tabular}\n"
      ],
      "text/plain": [
       "5×3 DataFrame\n",
       "│ Row │ a      │ b       │ r      │\n",
       "│     │ \u001b[90mInt64⍰\u001b[39m │ \u001b[90mInt64⍰\u001b[39m  │ \u001b[90mInt64⍰\u001b[39m │\n",
       "├─────┼────────┼─────────┼────────┤\n",
       "│ 1   │ 1      │ 2       │ 3      │\n",
       "│ 2   │ 1      │ 3       │ 4      │\n",
       "│ 3   │ 1      │ \u001b[90mmissing\u001b[39m │ 126    │\n",
       "│ 4   │ 5      │ 5       │ 5      │\n",
       "│ 5   │ -5     │ 7       │ 89     │"
      ]
     },
     "execution_count": 79,
     "metadata": {},
     "output_type": "execute_result"
    }
   ],
   "source": [
    "# add new row by name of columnns\n",
    "push!(df1, (b = 7, r=89, a = -5))"
   ]
  },
  {
   "cell_type": "code",
   "execution_count": 80,
   "metadata": {},
   "outputs": [
    {
     "data": {
      "text/html": [
       "<table class=\"data-frame\"><thead><tr><th></th><th>a</th><th>b</th><th>r</th><th>z</th></tr><tr><th></th><th>Int64⍰</th><th>Int64⍰</th><th>Int64⍰</th><th>Float64</th></tr></thead><tbody><p>5 rows × 4 columns</p><tr><th>1</th><td>1</td><td>2</td><td>3</td><td>0.574353</td></tr><tr><th>2</th><td>1</td><td>3</td><td>4</td><td>0.579092</td></tr><tr><th>3</th><td>1</td><td>missing</td><td>126</td><td>0.0584591</td></tr><tr><th>4</th><td>5</td><td>5</td><td>5</td><td>0.973551</td></tr><tr><th>5</th><td>-5</td><td>7</td><td>89</td><td>0.63589</td></tr></tbody></table>"
      ],
      "text/latex": [
       "\\begin{tabular}{r|cccc}\n",
       "\t& a & b & r & z\\\\\n",
       "\t\\hline\n",
       "\t& Int64⍰ & Int64⍰ & Int64⍰ & Float64\\\\\n",
       "\t\\hline\n",
       "\t1 & 1 & 2 & 3 & 0.574353 \\\\\n",
       "\t2 & 1 & 3 & 4 & 0.579092 \\\\\n",
       "\t3 & 1 &  & 126 & 0.0584591 \\\\\n",
       "\t4 & 5 & 5 & 5 & 0.973551 \\\\\n",
       "\t5 & -5 & 7 & 89 & 0.63589 \\\\\n",
       "\\end{tabular}\n"
      ],
      "text/plain": [
       "5×4 DataFrame\n",
       "│ Row │ a      │ b       │ r      │ z         │\n",
       "│     │ \u001b[90mInt64⍰\u001b[39m │ \u001b[90mInt64⍰\u001b[39m  │ \u001b[90mInt64⍰\u001b[39m │ \u001b[90mFloat64\u001b[39m   │\n",
       "├─────┼────────┼─────────┼────────┼───────────┤\n",
       "│ 1   │ 1      │ 2       │ 3      │ 0.574353  │\n",
       "│ 2   │ 1      │ 3       │ 4      │ 0.579092  │\n",
       "│ 3   │ 1      │ \u001b[90mmissing\u001b[39m │ 126    │ 0.0584591 │\n",
       "│ 4   │ 5      │ 5       │ 5      │ 0.973551  │\n",
       "│ 5   │ -5     │ 7       │ 89     │ 0.63589   │"
      ]
     },
     "execution_count": 80,
     "metadata": {},
     "output_type": "execute_result"
    }
   ],
   "source": [
    "df1.z = rand(size(df1, 1))\n",
    "# equivalent syntax: df1.z == df1[!, :z]\n",
    "df1"
   ]
  },
  {
   "cell_type": "markdown",
   "metadata": {},
   "source": [
    "## Querying a DataFrame\n",
    "\n",
    "Querying a dataframe is done with the [Query.jl](https://www.queryverse.org/Query.jl/stable/) package (alternatives also exist). `Query` allows you to query many different Julia data sources with two styles of syntax: \n",
    "\n",
    "1. Composable standalone operations \n",
    "2. \"LINQ\" style\n",
    "\n",
    "Here I'll show the LINQ syntax because it involves less new symbols. \n",
    "\n",
    "Query is extremely powerful and general, because in principle it can query almost everything that is iterable. E.g. a dataframe is in principle an iterable of NamedTuples."
   ]
  },
  {
   "cell_type": "code",
   "execution_count": 81,
   "metadata": {},
   "outputs": [
    {
     "name": "stderr",
     "output_type": "stream",
     "text": [
      "┌ Info: Precompiling Query [1a8c2f83-1ff3-5112-b086-8aa67b057ba1]\n",
      "└ @ Base loading.jl:1273\n"
     ]
    },
    {
     "data": {
      "text/html": [
       "<table class=\"data-frame\"><thead><tr><th></th><th>a</th><th>b</th><th>r</th><th>model</th><th>d</th></tr><tr><th></th><th>Int64⍰</th><th>Int64⍰</th><th>Int64⍰</th><th>String⍰</th><th>Int64⍰</th></tr></thead><tbody><p>8 rows × 5 columns</p><tr><th>1</th><td>1</td><td>2</td><td>3</td><td>linear</td><td>missing</td></tr><tr><th>2</th><td>1</td><td>3</td><td>4</td><td>linear</td><td>missing</td></tr><tr><th>3</th><td>1</td><td>missing</td><td>126</td><td>cubic</td><td>5</td></tr><tr><th>4</th><td>1</td><td>missing</td><td>217</td><td>cubic</td><td>6</td></tr><tr><th>5</th><td>2</td><td>2</td><td>4</td><td>linear</td><td>missing</td></tr><tr><th>6</th><td>2</td><td>3</td><td>5</td><td>linear</td><td>missing</td></tr><tr><th>7</th><td>2</td><td>missing</td><td>127</td><td>cubic</td><td>5</td></tr><tr><th>8</th><td>2</td><td>missing</td><td>218</td><td>cubic</td><td>6</td></tr></tbody></table>"
      ],
      "text/latex": [
       "\\begin{tabular}{r|ccccc}\n",
       "\t& a & b & r & model & d\\\\\n",
       "\t\\hline\n",
       "\t& Int64⍰ & Int64⍰ & Int64⍰ & String⍰ & Int64⍰\\\\\n",
       "\t\\hline\n",
       "\t1 & 1 & 2 & 3 & linear &  \\\\\n",
       "\t2 & 1 & 3 & 4 & linear &  \\\\\n",
       "\t3 & 1 &  & 126 & cubic & 5 \\\\\n",
       "\t4 & 1 &  & 217 & cubic & 6 \\\\\n",
       "\t5 & 2 & 2 & 4 & linear &  \\\\\n",
       "\t6 & 2 & 3 & 5 & linear &  \\\\\n",
       "\t7 & 2 &  & 127 & cubic & 5 \\\\\n",
       "\t8 & 2 &  & 218 & cubic & 6 \\\\\n",
       "\\end{tabular}\n"
      ],
      "text/plain": [
       "8×5 DataFrame\n",
       "│ Row │ a      │ b       │ r      │ model   │ d       │\n",
       "│     │ \u001b[90mInt64⍰\u001b[39m │ \u001b[90mInt64⍰\u001b[39m  │ \u001b[90mInt64⍰\u001b[39m │ \u001b[90mString⍰\u001b[39m │ \u001b[90mInt64⍰\u001b[39m  │\n",
       "├─────┼────────┼─────────┼────────┼─────────┼─────────┤\n",
       "│ 1   │ 1      │ 2       │ 3      │ linear  │ \u001b[90mmissing\u001b[39m │\n",
       "│ 2   │ 1      │ 3       │ 4      │ linear  │ \u001b[90mmissing\u001b[39m │\n",
       "│ 3   │ 1      │ \u001b[90mmissing\u001b[39m │ 126    │ cubic   │ 5       │\n",
       "│ 4   │ 1      │ \u001b[90mmissing\u001b[39m │ 217    │ cubic   │ 6       │\n",
       "│ 5   │ 2      │ 2       │ 4      │ linear  │ \u001b[90mmissing\u001b[39m │\n",
       "│ 6   │ 2      │ 3       │ 5      │ linear  │ \u001b[90mmissing\u001b[39m │\n",
       "│ 7   │ 2      │ \u001b[90mmissing\u001b[39m │ 127    │ cubic   │ 5       │\n",
       "│ 8   │ 2      │ \u001b[90mmissing\u001b[39m │ 218    │ cubic   │ 6       │"
      ]
     },
     "execution_count": 81,
     "metadata": {},
     "output_type": "execute_result"
    }
   ],
   "source": [
    "using Query\n",
    "results"
   ]
  },
  {
   "cell_type": "markdown",
   "metadata": {},
   "source": [
    "Let's perform some basic queries and then explain them. The basic query syntax is as follows"
   ]
  },
  {
   "cell_type": "code",
   "execution_count": 82,
   "metadata": {},
   "outputs": [
    {
     "data": {
      "text/html": [
       "<table class=\"data-frame\"><thead><tr><th></th><th>a</th><th>r</th></tr><tr><th></th><th>Int64⍰</th><th>Int64⍰</th></tr></thead><tbody><p>4 rows × 2 columns</p><tr><th>1</th><td>1</td><td>3</td></tr><tr><th>2</th><td>1</td><td>4</td></tr><tr><th>3</th><td>2</td><td>4</td></tr><tr><th>4</th><td>2</td><td>5</td></tr></tbody></table>"
      ],
      "text/latex": [
       "\\begin{tabular}{r|cc}\n",
       "\t& a & r\\\\\n",
       "\t\\hline\n",
       "\t& Int64⍰ & Int64⍰\\\\\n",
       "\t\\hline\n",
       "\t1 & 1 & 3 \\\\\n",
       "\t2 & 1 & 4 \\\\\n",
       "\t3 & 2 & 4 \\\\\n",
       "\t4 & 2 & 5 \\\\\n",
       "\\end{tabular}\n"
      ],
      "text/plain": [
       "4×2 DataFrame\n",
       "│ Row │ a      │ r      │\n",
       "│     │ \u001b[90mInt64⍰\u001b[39m │ \u001b[90mInt64⍰\u001b[39m │\n",
       "├─────┼────────┼────────┤\n",
       "│ 1   │ 1      │ 3      │\n",
       "│ 2   │ 1      │ 4      │\n",
       "│ 3   │ 2      │ 4      │\n",
       "│ 4   │ 2      │ 5      │"
      ]
     },
     "execution_count": 82,
     "metadata": {},
     "output_type": "execute_result"
    }
   ],
   "source": [
    "q = @from row in results begin\n",
    "    @where row.model == \"linear\"\n",
    "    @select {row.a, row.r}\n",
    "    @collect DataFrame\n",
    "end"
   ]
  },
  {
   "cell_type": "markdown",
   "metadata": {},
   "source": [
    "same command, with comments"
   ]
  },
  {
   "cell_type": "code",
   "execution_count": 83,
   "metadata": {},
   "outputs": [
    {
     "data": {
      "text/html": [
       "<table class=\"data-frame\"><thead><tr><th></th><th>a</th><th>r</th></tr><tr><th></th><th>Int64⍰</th><th>Int64⍰</th></tr></thead><tbody><p>4 rows × 2 columns</p><tr><th>1</th><td>1</td><td>3</td></tr><tr><th>2</th><td>1</td><td>4</td></tr><tr><th>3</th><td>2</td><td>4</td></tr><tr><th>4</th><td>2</td><td>5</td></tr></tbody></table>"
      ],
      "text/latex": [
       "\\begin{tabular}{r|cc}\n",
       "\t& a & r\\\\\n",
       "\t\\hline\n",
       "\t& Int64⍰ & Int64⍰\\\\\n",
       "\t\\hline\n",
       "\t1 & 1 & 3 \\\\\n",
       "\t2 & 1 & 4 \\\\\n",
       "\t3 & 2 & 4 \\\\\n",
       "\t4 & 2 & 5 \\\\\n",
       "\\end{tabular}\n"
      ],
      "text/plain": [
       "4×2 DataFrame\n",
       "│ Row │ a      │ r      │\n",
       "│     │ \u001b[90mInt64⍰\u001b[39m │ \u001b[90mInt64⍰\u001b[39m │\n",
       "├─────┼────────┼────────┤\n",
       "│ 1   │ 1      │ 3      │\n",
       "│ 2   │ 1      │ 4      │\n",
       "│ 3   │ 2      │ 4      │\n",
       "│ 4   │ 2      │ 5      │"
      ]
     },
     "execution_count": 83,
     "metadata": {},
     "output_type": "execute_result"
    }
   ],
   "source": [
    "# `@from ... begin` initializes a query\n",
    "# here `row` (any name would be fine) is the \n",
    "# iterable of the tabular data. Think of it as a \n",
    "# NamedTuple. You can access its values by name.\n",
    "q = @from row in results begin\n",
    "    # `@where` filters elements where the following\n",
    "    # expression is true. \n",
    "    @where row.model == \"linear\"\n",
    "    # `@select { stuf... }  creates a new named tuple\n",
    "    @select {row.a, row.r}\n",
    "    # `@collect` collects the selected results into\n",
    "    # the specified data structure\n",
    "    @collect DataFrame\n",
    "end"
   ]
  },
  {
   "cell_type": "markdown",
   "metadata": {},
   "source": [
    "Here is another query but with different contents"
   ]
  },
  {
   "cell_type": "code",
   "execution_count": 84,
   "metadata": {},
   "outputs": [
    {
     "data": {
      "text/html": [
       "<table class=\"data-frame\"><thead><tr><th></th><th>sin</th><th>cos</th></tr><tr><th></th><th>Float64⍰</th><th>Float64⍰</th></tr></thead><tbody><p>7 rows × 2 columns</p><tr><th>1</th><td>0.841471</td><td>-0.989992</td></tr><tr><th>2</th><td>0.841471</td><td>-0.653644</td></tr><tr><th>3</th><td>0.841471</td><td>-0.973642</td></tr><tr><th>4</th><td>0.909297</td><td>-0.653644</td></tr><tr><th>5</th><td>0.909297</td><td>0.283662</td></tr><tr><th>6</th><td>0.909297</td><td>0.232359</td></tr><tr><th>7</th><td>0.909297</td><td>-0.334137</td></tr></tbody></table>"
      ],
      "text/latex": [
       "\\begin{tabular}{r|cc}\n",
       "\t& sin & cos\\\\\n",
       "\t\\hline\n",
       "\t& Float64⍰ & Float64⍰\\\\\n",
       "\t\\hline\n",
       "\t1 & 0.841471 & -0.989992 \\\\\n",
       "\t2 & 0.841471 & -0.653644 \\\\\n",
       "\t3 & 0.841471 & -0.973642 \\\\\n",
       "\t4 & 0.909297 & -0.653644 \\\\\n",
       "\t5 & 0.909297 & 0.283662 \\\\\n",
       "\t6 & 0.909297 & 0.232359 \\\\\n",
       "\t7 & 0.909297 & -0.334137 \\\\\n",
       "\\end{tabular}\n"
      ],
      "text/plain": [
       "7×2 DataFrame\n",
       "│ Row │ sin      │ cos       │\n",
       "│     │ \u001b[90mFloat64⍰\u001b[39m │ \u001b[90mFloat64⍰\u001b[39m  │\n",
       "├─────┼──────────┼───────────┤\n",
       "│ 1   │ 0.841471 │ -0.989992 │\n",
       "│ 2   │ 0.841471 │ -0.653644 │\n",
       "│ 3   │ 0.841471 │ -0.973642 │\n",
       "│ 4   │ 0.909297 │ -0.653644 │\n",
       "│ 5   │ 0.909297 │ 0.283662  │\n",
       "│ 6   │ 0.909297 │ 0.232359  │\n",
       "│ 7   │ 0.909297 │ -0.334137 │"
      ]
     },
     "execution_count": 84,
     "metadata": {},
     "output_type": "execute_result"
    }
   ],
   "source": [
    "q = @from row in results begin\n",
    "    @where cos(row.r) < 0.5\n",
    "    @select {sin = sin(row.a), cos = cos(row.r)}\n",
    "    @collect DataFrame\n",
    "end"
   ]
  },
  {
   "cell_type": "markdown",
   "metadata": {},
   "source": [
    "As you can see, you don't have to necessarily collect existing columns, you can even create new ones (specified by name).\n",
    "\n",
    "Of course, much, much more things are possible to do in such a query. For more, see the documentation of Query.jl."
   ]
  },
  {
   "cell_type": "markdown",
   "metadata": {},
   "source": [
    "# A final take-home message\n",
    "\n",
    "One thing that should really, _really_ be added a lot of weight, is how simple, transparent, and high level are the interfaces of everything that you have seen so far. Both base Julia, as well as most packages for it, have such a simple interface which means that people can learn the software faster and spend more time actually doing science than trying to figure out how to write the code.\n",
    "\n",
    "This is something that \"old\" programming languages typically fail at: most (young) people that use codebases written in C/FORTRAN without any high level API defined on top (in e.g. Python) always complain that it is \"so hard to use this stuff\".\n",
    "\n",
    "Julia = answer :) \n",
    "\n",
    "# Exercises\n",
    "\n",
    "These exercises will require you to search things on the internet (because this is part of the process of \"learning a Julia package\").\n",
    "\n",
    "## Make a basic plot\n",
    "\n",
    "There are many (perhaps too many) packages you can use to plot things with Julia. Some of them are entirely trivial to install, some of them not so much. I'd recommend to use PyPlot.jl, as it always installs and works without problems and a huge list of features as well as excellent documentation. \n",
    "\n",
    "After installing a plotting package, plot `1:5` versus `rand(5)` and then scatter plot `1:5` versus `rand(5)`, in a different color. Then make the x and y axis to have labels have \"x\" and \"y\", and add a title to your plot. Plotting will be used in subesequent exercises.\n",
    "\n",
    "## Bouncing ball\n",
    "\n",
    "Using the callback functionality of DifferentialEquations.jl, implement the bouncing ball physical system:\n",
    "\n",
    "$$\n",
    "\\begin{aligned}\n",
    "\\dot{x} &= v \\\\\n",
    "\\dot{v} &= -g - \\gamma v \n",
    "\\end{aligned}\n",
    "$$\n",
    "and at $x=0$ there is a table that the ball bounces from. $g$ is the gravity constant and $\\gamma$ the air friction (use e.g. $g=10, \\gamma = 0.99, x = 1, v = 0$). Implement this problem for elastic collisions (elastic collisions preserve velocity measure), and plot the time evolution of $x, v$ versus time.\n",
    "\n",
    "*Hint: whenever the ball reaches the level $x=0$, its velocity should be reversed.*\n",
    "\n",
    "\n",
    "## Distribution quantile\n",
    "\n",
    "To find the $q$-th quantile of a distribution, one can use a Newton method\n",
    "\n",
    "$$\\theta_{n+1} = \\theta_n -\\frac{\\text{cdf}(\\theta)−q}{\\text{pdf}(\\theta)}$$\n",
    "\n",
    "where $\\theta_n$ converges to the value of the $q$-th quantile.\n",
    "\n",
    "Use multiple dispatch to write a generic algorithm for which calculates the qth quantile of any `UnivariateDistribution` in Distributions.jl, and test your result against the `quantile(d::UnivariateDistribution, q::Number)` function from Distributions.jl using the following distributions: `[Gamma(5, 1), Normal(0, 1), Beta(2, 4)]`.\n",
    "\n",
    "*Hint: use `θ0 = mean(distribution)`*\n",
    "\n",
    "## Plotting subsets of a dataframe\n",
    "\n",
    "`DataFrames` has a default dataset that is used in its test suite. Install the `CSV` package, and load this dataset with the command:\n",
    "```julia\n",
    "using DataFrames, CSV\n",
    "iris = DataFrame(CSV.File(\n",
    "    joinpath(dirname(pathof(DataFrames)), \n",
    "    \"../docs/src/assets/iris.csv\")\n",
    "))\n",
    "```\n",
    "\n",
    "This dataset has various flower species (column `:Species`). For every species create a 1x2 figure with the following plots:\n",
    "\n",
    "* [1,1] = scatter plot of `SepalLength` vs `SepalWidth`. \n",
    "2. [1,2] = scatter plot of `PetalLength` vs `PetalWidth`.\n",
    "\n",
    "for each of these sub-scatter plots, calculate and print the Pearson correlaton coefficient.\n",
    "\n",
    "## DataFrame of chaos\n",
    "\n",
    "Define the Roessler system as a `DynamicalSystem`:\n",
    "$$\n",
    "\\begin{aligned}\n",
    "\\dot{x} &= -y-z \\\\\n",
    "\\dot{y} &= x+ay \\\\\n",
    "\\dot{z} &= b + z(x-c)\n",
    "\\end{aligned}\n",
    "$$\n",
    "with initial condition `ones(3)`. Loop over all three of the following parameter ranges:\n",
    "```julia\n",
    "as = 0.15:0.025:0.25\n",
    "bs = 0.15:0.025:0.25\n",
    "cs = 4:0.1:6.0\n",
    "```\n",
    "and for each parameter combination calculate (1) the Lyapunov spectrum and (2) the shannon entropy of the system's trajectory. (For the entropy, evolve the system with `dt=0.1` and use `ε=0.1` for the box size. For changing parameters you have to use `set_parameter!`).\n",
    "\n",
    "Collect this analysis into a dataframe, with columns `a, b, c, λ1, λ2, H`. Then use the querying framework to query into this dataframe and do the following processes:\n",
    "\n",
    "####  find chaotic parameter sets\n",
    "Select all values `a, b, c` where `λ1 > 0.01` (which indicates chaotic dynamics).\n",
    "\n",
    "####  λ vs H\n",
    "For all chaotic cases, select the `λ1, H` values and then perform a scatter plot of these two.\n",
    "\n",
    "#### heatmap of H\n",
    "For `a` fixed to `0.2`, plot a heatmap of the value of `H` with axis the values of `c` and the values of `b`. Provided that you have a dataframe with columns `:b, :c, :H`, then these commands:\n",
    "```julia\n",
    "unstacked = unstack(heatdf, :b,  :H; renamecols = (x -> \"H for b=$(x)\"))\n",
    "heat = Matrix(unstacked[:, Not(:c)])\n",
    "```\n",
    "will create a matrix with the values of `H` where the row index is the values of `c` and the column index is the values of `b`.\n",
    "\n",
    "*Hint: you can initiallize an empty dataframe with `df = DataFrame()`, and then start pushing into it arbitrary named tuples like `push!(df, (a = 0.5, b = 0.5))`.*\n",
    "\n",
    "*Hint 2: this all sounds like a lot of computation, but if you do the exercise correct running all code should not take more than 10 seconds.*\n",
    "\n",
    "\n",
    "## Reproducible scientific project\n",
    "*this exercise only applies to participants that already know Git*\n",
    "\n",
    "* Use DrWatson's `initialize_project` to start a scientific project somewhere on your computer. \n",
    "* Add the package `BSON` to this project. \n",
    "* In the `scripts` folder create a new Julia script that uses three parameters `a, b, c ∈ Reals` and creates a random result `r`. Save this result into disk by using `savename` to produce a name from `a, b, c`, and using `tagsave` to do the actual saving.\n",
    "* Save your script, and commit it into Git. Then run the script, load the saved file, and confirm that the saved git commit ID matches that of your Git repo.\n"
   ]
  }
 ],
 "metadata": {
  "kernelspec": {
   "display_name": "Julia 1.7.2",
   "language": "julia",
   "name": "julia-1.7"
  },
  "language_info": {
   "file_extension": ".jl",
   "mimetype": "application/julia",
   "name": "julia",
   "version": "1.7.2"
  }
 },
 "nbformat": 4,
 "nbformat_minor": 2
}
