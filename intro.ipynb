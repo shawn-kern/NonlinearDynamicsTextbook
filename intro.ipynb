{
 "cells": [
  {
   "cell_type": "markdown",
   "id": "17df9d39-17cc-4811-8985-cacbc4262f80",
   "metadata": {},
   "source": [
    "This short document serves as an introduction to DynamicalSystems.jl. We'll need the following packages:"
   ]
  },
  {
   "cell_type": "code",
   "execution_count": null,
   "id": "b6a76f70-6a9c-47b7-8394-eeb2407f57c6",
   "metadata": {
    "tags": []
   },
   "outputs": [],
   "source": [
    "using Pkg; Pkg.add([\"DynamicalSystems\", \"OrdinaryDiffEq\"]);"
   ]
  },
  {
   "cell_type": "markdown",
   "id": "8be1659c-197a-4869-8c3e-bf76869e61aa",
   "metadata": {},
   "source": [
    "*for more details beyond this short document, see the [documentation of DynamicalSystems.jl](https://juliadynamics.github.io/DynamicalSystems.jl/dev/#Getting-started)*\n"
   ]
  },
  {
   "cell_type": "markdown",
   "id": "c7abf1c6-16db-4145-8874-6bdce9f112c3",
   "metadata": {
    "tags": []
   },
   "source": [
    "# Core structures of DynamicalSystems.jl\n",
    "\n",
    "There are two core structures: `DynamicalSystem`, which represents a dynamical system, and `Dataset` which represents a collection of points in the state space.\n",
    "\n",
    "Here we'll create two dynamical systems:\n",
    "\n",
    "1. The Henon map, which is discrete and low-dimensional\n",
    "2. The Lorenz96 model, which is continuous and high-dimensional\n",
    "\n",
    "$$\n",
    "\\text{Henon map:}\\quad\n",
    "\\begin{array}{l}\n",
    "x_{n+1} = 1 - ax^2_n+y_n \\\\\n",
    "y_{n+1} = bx_n\n",
    "\\end{array}\n",
    "\\quad\\quad\n",
    "\\text{Lorenz96:}\\quad\n",
    "\\frac{dx_i}{dt} \\equiv \\dot{x}_i = (x_{i+1}-x_{i-2})x_{i-1} - x_i + F, \\,\\, i\\in \\{1,\\ldots,N\\}\n",
    "$$\n",
    "*(notice that $n$ counts the discrete time, while $i$ counts the different variables of the Lorenz96 model which is in continuous time)*\n",
    "\n",
    "For this tutorial we'll use parameters $(a,b) = (1.4, 0.3)$ for the Henon map, and $(F, N) = (8, 5)$ for the Lorenz96 model. \n",
    "\n",
    "Let's start with the discrete one. How to create a dynamical system is discussed in detail in the [documentation string of `DynamicalSystem`](https://juliadynamics.github.io/DynamicalSystems.jl/dev/ds/general/#DynamicalSystemsBase.DynamicalSystem)."
   ]
  },
  {
   "cell_type": "code",
   "execution_count": 69,
   "id": "8155d68f-b406-4ae7-a616-e686fcfafa8c",
   "metadata": {},
   "outputs": [],
   "source": [
    "using DynamicalSystems"
   ]
  },
  {
   "cell_type": "code",
   "execution_count": 70,
   "id": "ccb621cf-7c1f-43ca-9e76-f60288a311d0",
   "metadata": {},
   "outputs": [
    {
     "data": {
      "text/plain": [
       "henon_rule (generic function with 1 method)"
      ]
     },
     "execution_count": 70,
     "metadata": {},
     "output_type": "execute_result"
    }
   ],
   "source": [
    "function henon_rule(u, p, n) # here `n` is \"time\", but we don't use it.\n",
    "    x, y = u # system state\n",
    "    a, b = p # system parameters\n",
    "    xn = 1.0 - a*x^2 + y\n",
    "    yn = b*x\n",
    "    return SVector(xn, yn)\n",
    "end"
   ]
  },
  {
   "cell_type": "code",
   "execution_count": 71,
   "id": "a7d3b973-9731-44b9-b78e-e92fa27b0312",
   "metadata": {},
   "outputs": [
    {
     "data": {
      "text/plain": [
       "2-element Vector{Float64}:\n",
       " 0.2\n",
       " 0.3"
      ]
     },
     "execution_count": 71,
     "metadata": {},
     "output_type": "execute_result"
    }
   ],
   "source": [
    "p = [1.4, 0.3]\n",
    "u0 = [0.2, 0.3]"
   ]
  },
  {
   "cell_type": "code",
   "execution_count": 72,
   "id": "1a5f8478-255f-481b-bb81-ca7db7c2e71d",
   "metadata": {},
   "outputs": [
    {
     "data": {
      "text/plain": [
       "2-dimensional discrete dynamical system\n",
       " state:       [0.2, 0.3]\n",
       " rule f:      henon_rule\n",
       " in-place?    false\n",
       " jacobian:    ForwardDiff\n",
       " parameters:  [1.4, 0.3]"
      ]
     },
     "execution_count": 72,
     "metadata": {},
     "output_type": "execute_result"
    }
   ],
   "source": [
    "henon = DiscreteDynamicalSystem(henon_rule, u0, p)"
   ]
  },
  {
   "cell_type": "markdown",
   "id": "6fd7b576-a8f9-413c-a2b6-44e895c1a3ce",
   "metadata": {},
   "source": [
    "This `henon`, which is an instance of a `DynamicalSystem`, contains all information necessary and can be passed to many of the 100s of functions of the library. The best place to start is the function `trajectory` function, which evolves the dynamical system in time and returns the trajectory as a `Dataset`."
   ]
  },
  {
   "cell_type": "code",
   "execution_count": 73,
   "id": "d4f05b62-7154-46e6-83a1-e724219d9d07",
   "metadata": {},
   "outputs": [
    {
     "data": {
      "text/plain": [
       "2-dimensional Dataset{Float64} with 101 points\n",
       "  0.2         0.3\n",
       "  1.244       0.06\n",
       " -1.10655     0.3732\n",
       " -0.341035   -0.331965\n",
       "  0.505208   -0.102311\n",
       "  0.540361    0.151562\n",
       "  0.742777    0.162108\n",
       "  0.389703    0.222833\n",
       "  1.01022     0.116911\n",
       " -0.311842    0.303065\n",
       "  1.16692    -0.0935526\n",
       " -0.99994     0.350076\n",
       " -0.0497562  -0.299982\n",
       "  ⋮          \n",
       " -0.359887    0.307745\n",
       "  1.12642    -0.107966\n",
       " -0.884314    0.337926\n",
       "  0.243109   -0.265294\n",
       "  0.651963    0.0729327\n",
       "  0.477855    0.195589\n",
       "  0.875905    0.143356\n",
       "  0.0692622   0.262772\n",
       "  1.25606     0.0207787\n",
       " -1.18797     0.376817\n",
       " -0.598954   -0.35639\n",
       "  0.141365   -0.179686"
      ]
     },
     "execution_count": 73,
     "metadata": {},
     "output_type": "execute_result"
    }
   ],
   "source": [
    "A = trajectory(henon, 100) # evolve for `100` steps"
   ]
  },
  {
   "cell_type": "markdown",
   "id": "d12e5c6c-e58d-4823-a5f9-6cc7471ab51e",
   "metadata": {},
   "source": [
    "The type of the output of `trajectory` is a `Dataset`, which is the 2nd core structure of DynamicalSystems.jl. It is printed like a matrix where each column is the timeseries of each dynamic variable. In reality, it is a vector of statically sized vectors (for performance reasons). When iterated or indexed with 1 index, it behaves like a vector of vectors. When indexed with two indices, it behaves like a matrix."
   ]
  },
  {
   "cell_type": "code",
   "execution_count": 74,
   "id": "5468204b-43d2-4618-a06b-328172c72923",
   "metadata": {},
   "outputs": [
    {
     "data": {
      "text/plain": [
       "2-element SVector{2, Float64} with indices SOneTo(2):\n",
       " 1.244\n",
       " 0.06"
      ]
     },
     "execution_count": 74,
     "metadata": {},
     "output_type": "execute_result"
    }
   ],
   "source": [
    "A[2]"
   ]
  },
  {
   "cell_type": "code",
   "execution_count": 75,
   "id": "77e84d3e-4d2e-4cae-a94d-9d472c180558",
   "metadata": {},
   "outputs": [
    {
     "data": {
      "text/plain": [
       "2-dimensional Dataset{Float64} with 4 points\n",
       "  1.244      0.06\n",
       " -1.10655    0.3732\n",
       " -0.341035  -0.331965\n",
       "  0.505208  -0.102311"
      ]
     },
     "execution_count": 75,
     "metadata": {},
     "output_type": "execute_result"
    }
   ],
   "source": [
    "A[2:5]"
   ]
  },
  {
   "cell_type": "code",
   "execution_count": 76,
   "id": "d1eb4afa-58a1-4865-bc1c-3f65cb4e1d01",
   "metadata": {},
   "outputs": [
    {
     "data": {
      "text/plain": [
       "4-element Vector{Float64}:\n",
       "  0.06\n",
       "  0.3732\n",
       " -0.3319651199999999\n",
       " -0.10231059085086688"
      ]
     },
     "execution_count": 76,
     "metadata": {},
     "output_type": "execute_result"
    }
   ],
   "source": [
    "A[2:5, 2]"
   ]
  },
  {
   "cell_type": "code",
   "execution_count": 77,
   "id": "7896e601-eec6-4f5a-b36e-d9c8c1a5cc6a",
   "metadata": {},
   "outputs": [
    {
     "name": "stdout",
     "output_type": "stream",
     "text": [
      "point = [0.2, 0.3]\n",
      "point = [1.244, 0.06]\n",
      "point = [-1.1065503999999997, 0.3732]\n",
      "point = [-0.34103530283622296, -0.3319651199999999]\n",
      "point = [0.5052077711071681, -0.10231059085086688]\n",
      "point = [0.5403605603672313, 0.1515623313321504]\n"
     ]
    }
   ],
   "source": [
    "for (i, point) in enumerate(A)\n",
    "    @show point\n",
    "    i > 5 && break\n",
    "end"
   ]
  },
  {
   "cell_type": "code",
   "execution_count": 78,
   "id": "f84bcb8a-c7ef-4f17-b276-ab173e847732",
   "metadata": {},
   "outputs": [
    {
     "data": {
      "text/plain": [
       "([0.2, 1.244, -1.1065503999999997, -0.34103530283622296, 0.5052077711071681, 0.5403605603672313, 0.7427769820516068, 0.3897034650181992, 1.0102167877094148, -0.31184210193244044  …  -0.8843143777780145, 0.2431090843448369, 0.6519628490192166, 0.47785494620169566, 0.8759053652525692, 0.06926219143097734, 1.256055457949221, -1.1879667813923445, -0.5989544657835943, 0.14136493266734151], [0.3, 0.06, 0.3732, -0.3319651199999999, -0.10231059085086688, 0.1515623313321504, 0.1621081681101694, 0.22283309461548204, 0.11691103950545975, 0.30306503631282444  …  0.33792577058772055, -0.2652943133334043, 0.07293272530345107, 0.19558885470576498, 0.1433564838605087, 0.2627716095757708, 0.0207786574292932, 0.3768166373847663, -0.35639003441770334, -0.1796863397350783])"
      ]
     },
     "execution_count": 78,
     "metadata": {},
     "output_type": "execute_result"
    }
   ],
   "source": [
    "x, y = columns(A)"
   ]
  },
  {
   "cell_type": "markdown",
   "id": "34fa822e-722a-4e21-a181-fc88bcff2f45",
   "metadata": {},
   "source": [
    "Okay, let's also define the Lorenz96 system, now in in-place form"
   ]
  },
  {
   "cell_type": "code",
   "execution_count": 80,
   "id": "21f4c4d0-b0ce-4bb8-89a3-f3d888dc0337",
   "metadata": {},
   "outputs": [
    {
     "data": {
      "text/plain": [
       "lorenz96_rule (generic function with 1 method)"
      ]
     },
     "execution_count": 80,
     "metadata": {},
     "output_type": "execute_result"
    }
   ],
   "source": [
    "function lorenz96_rule(du, u, p, t)\n",
    "    F = p[1]; N = length(u)\n",
    "    # 3 edge cases\n",
    "    du[1] = (u[2] - u[N - 1]) * u[N] - u[1] + F\n",
    "    du[2] = (u[3] - u[N]) * u[1] - u[2] + F\n",
    "    du[N] = (u[1] - u[N - 2]) * u[N - 1] - u[N] + F\n",
    "    # then the general case\n",
    "    for n in 3:(N - 1)\n",
    "        du[n] = (u[n + 1] - u[n - 2]) * u[n - 1] - u[n] + F\n",
    "    end\n",
    "    return nothing # always `return nothing` for in-place form!\n",
    "end"
   ]
  },
  {
   "cell_type": "code",
   "execution_count": 79,
   "id": "9ed2f37e-0943-49ab-8510-aebda4e49c87",
   "metadata": {},
   "outputs": [
    {
     "data": {
      "text/plain": [
       "5-dimensional continuous dynamical system\n",
       " state:       [0.460626, 0.395062, 0.13681, 0.0301405, 0.40919]\n",
       " rule f:      lorenz96_rule\n",
       " in-place?    true\n",
       " jacobian:    ForwardDiff\n",
       " parameters:  [8.0]"
      ]
     },
     "execution_count": 79,
     "metadata": {},
     "output_type": "execute_result"
    }
   ],
   "source": [
    "u0 = rand(5)\n",
    "p = [8.0]\n",
    "lorenz96 = ContinuousDynamicalSystem(lorenz96_rule, u0, p)"
   ]
  },
  {
   "cell_type": "code",
   "execution_count": 81,
   "id": "8d500c4e-8853-4a98-a884-3bdd91af2e0b",
   "metadata": {},
   "outputs": [
    {
     "data": {
      "text/plain": [
       "5-dimensional Dataset{Float64} with 10001 points\n",
       "  0.460626   0.395062  0.13681   0.0301405   0.40919\n",
       "  0.537256   0.469382  0.213205  0.109468    0.484945\n",
       "  0.61337    0.542758  0.288537  0.188021    0.560201\n",
       "  0.688961   0.615197  0.362823  0.265812    0.634963\n",
       "  0.764026   0.686706  0.436079  0.342852    0.709238\n",
       "  0.838557   0.75729   0.508321  0.419156    0.78303\n",
       "  0.912548   0.826954  0.579564  0.494736    0.856349\n",
       "  0.985994   0.8957    0.649824  0.569607    0.929202\n",
       "  1.05889    0.963531  0.719113  0.643784    1.0016\n",
       "  1.13122    1.03045   0.787447  0.717284    1.07355\n",
       "  1.20298    1.09645   0.854839  0.790123    1.14506\n",
       "  1.27417    1.16154   0.921302  0.862319    1.21615\n",
       "  1.34477    1.2257    0.98685   0.93389     1.28683\n",
       "  ⋮                                         \n",
       " -0.554116  -0.961738  2.97148   8.17844     2.5477\n",
       " -0.690047  -0.87586   2.94063   8.27512     2.30888\n",
       " -0.802619  -0.793092  2.91573   8.36035     2.06123\n",
       " -0.891157  -0.713824  2.89704   8.43447     1.80654\n",
       " -0.955229  -0.638306  2.88468   8.4978      1.5467\n",
       " -0.994646  -0.566614  2.87865   8.55068     1.28364\n",
       " -1.00946   -0.498633  2.87889   8.59342     1.01929\n",
       " -0.999936  -0.434046  2.88526   8.62631     0.755614\n",
       " -0.966582  -0.372335  2.89756   8.64963     0.494517\n",
       " -0.910106  -0.312784  2.91564   8.66363     0.237865\n",
       " -0.831422  -0.254492  2.93931   8.66854    -0.0125588\n",
       " -0.731637  -0.196401  2.96846   8.66454    -0.255081"
      ]
     },
     "execution_count": 81,
     "metadata": {},
     "output_type": "execute_result"
    }
   ],
   "source": [
    "tr = trajectory(lorenz96, 100.0)"
   ]
  },
  {
   "cell_type": "markdown",
   "id": "fc207082-840d-4fcf-a805-4d14edac2dc8",
   "metadata": {},
   "source": [
    "Continuous dynamical systems are evolved through DifferentialEquations.jl. This means that for any function in DynamicalSystems.jl that takes as an input a `ContinuousDynamicalSystem`, you can tune the solver properties to your heart's content using any of the [ODE solvers](https://diffeq.sciml.ai/latest/solvers/ode_solve/) and any of the [common solver options](https://diffeq.sciml.ai/latest/basics/common_solver_opts/). For example:"
   ]
  },
  {
   "cell_type": "code",
   "execution_count": 82,
   "id": "33fa0983-0664-44d6-90aa-ae2b5a87d793",
   "metadata": {},
   "outputs": [],
   "source": [
    "using OrdinaryDiffEq # accessing the ODE solvers"
   ]
  },
  {
   "cell_type": "code",
   "execution_count": 84,
   "id": "c3160dcd-010f-468c-b4ad-9d14c4b3a14d",
   "metadata": {},
   "outputs": [
    {
     "data": {
      "text/plain": [
       "(alg = Vern9(true), abstol = 1.0e-9, reltol = 1.0e-9)"
      ]
     },
     "execution_count": 84,
     "metadata": {},
     "output_type": "execute_result"
    }
   ],
   "source": [
    "diffeq = (alg = Vern9(), abstol = 1e-9, reltol = 1e-9)"
   ]
  },
  {
   "cell_type": "code",
   "execution_count": 85,
   "id": "88abac99-d491-4dd8-9156-acbf8d351cbe",
   "metadata": {},
   "outputs": [
    {
     "data": {
      "text/plain": [
       "5-dimensional Dataset{Float64} with 10001 points\n",
       " 0.460626   0.395062   0.13681    0.0301405  0.40919\n",
       " 0.537256   0.469382   0.213204   0.109468   0.484945\n",
       " 0.61337    0.542758   0.288536   0.188021   0.560202\n",
       " 0.688962   0.615197   0.362822   0.265812   0.634964\n",
       " 0.764026   0.686706   0.436078   0.342853   0.709238\n",
       " 0.838557   0.75729    0.508321   0.419156   0.78303\n",
       " 0.912548   0.826954   0.579565   0.494736   0.856349\n",
       " 0.985993   0.8957     0.649824   0.569607   0.929201\n",
       " 1.05889    0.963531   0.719114   0.643784   1.0016\n",
       " 1.13122    1.03045    0.787447   0.717284   1.07355\n",
       " 1.20298    1.09645    0.854839   0.790123   1.14506\n",
       " 1.27417    1.16154    0.921302   0.862319   1.21615\n",
       " 1.34477    1.2257     0.98685    0.933889   1.28683\n",
       " ⋮                                           \n",
       " 8.29758    1.84508   -0.541735  -1.12559    2.76683\n",
       " 8.37165    1.6304    -0.619604  -1.04063    2.72283\n",
       " 8.43578    1.41335   -0.676236  -0.958325   2.68533\n",
       " 8.49048    1.19549   -0.711667  -0.878644   2.65453\n",
       " 8.53624    0.97833   -0.726124  -0.801455   2.63056\n",
       " 8.57354    0.763338  -0.720017  -0.726505   2.61346\n",
       " 8.60278    0.551928  -0.693925  -0.653424   2.60325\n",
       " 8.62436    0.345433  -0.648584  -0.581726   2.59989\n",
       " 8.63861    0.145097  -0.584871  -0.51082    2.60335\n",
       " 8.64583   -0.047944  -0.503793  -0.440022   2.61358\n",
       " 8.64626   -0.232671  -0.406474  -0.368572   2.63055\n",
       " 8.64011   -0.408194  -0.294137  -0.295645   2.65423"
      ]
     },
     "execution_count": 85,
     "metadata": {},
     "output_type": "execute_result"
    }
   ],
   "source": [
    "tr = trajectory(lorenz96, 100.0; diffeq...) # expand keywords with `...`"
   ]
  },
  {
   "cell_type": "markdown",
   "id": "cd449dee-4565-4523-a207-8d8e184d70fb",
   "metadata": {
    "tags": []
   },
   "source": [
    "# Using the rest of the library\n",
    "Once you have a basic understanding of these two structures `Dataset` and `DynamicalSystem`, using the rest of the library is straightforward. Just have a look at the documentation string of the function you want to use, and you are good to go. \n",
    "\n",
    "## Example: using a `DynamicalSystem`\n",
    "Some of the things you could do with a `DynamicalSystem` instance is (for example) calculate the Lyapunov exponents of an initial condition. For this, you'd first read the [documentation string of the `lyapunovspectrum` function](https://juliadynamics.github.io/DynamicalSystems.jl/dev/chaos/lyapunovs/#ChaosTools.lyapunovspectrum)."
   ]
  },
  {
   "cell_type": "code",
   "execution_count": 86,
   "id": "56f5c1fe-ea5a-4c90-8412-7a3615455dc1",
   "metadata": {},
   "outputs": [
    {
     "data": {
      "text/plain": [
       "5-element Vector{Float64}:\n",
       "  0.47013665574330804\n",
       "  0.00023264605674148828\n",
       " -0.5148209992440717\n",
       " -1.2975145256968428\n",
       " -3.658034079043204"
      ]
     },
     "execution_count": 86,
     "metadata": {},
     "output_type": "execute_result"
    }
   ],
   "source": [
    "lyapunovspectrum(lorenz96, 10000)"
   ]
  },
  {
   "cell_type": "markdown",
   "id": "70367684-25de-422f-aef3-617ce21b91bd",
   "metadata": {},
   "source": [
    "The documentation string of `lyapunovspectrum` highlights why DynamicalSystems.jl is a library, not just a software. \n",
    "\n",
    "Another example could be to use `poincaresos(ds, ...)` to get a Poincare section of the dynamical system, or to obtain the fixed points and their stability:"
   ]
  },
  {
   "cell_type": "code",
   "execution_count": 88,
   "id": "fa3a1a47-8280-4f8c-b52a-08caab423593",
   "metadata": {},
   "outputs": [
    {
     "name": "stdout",
     "output_type": "stream",
     "text": [
      "Fixed point [0.6313544770895048, 0.1894063431268514] has stability false\n",
      "Fixed point [-1.1313544770895048, -0.33940634312685136] has stability false\n"
     ]
    }
   ],
   "source": [
    "box = IntervalBox(-2..2, -2..2)\n",
    "fp, eigs, stable = fixedpoints(henon, box)\n",
    "for (i, p) in enumerate(fp)\n",
    "    println(\"Fixed point $(p) has stability $(stable[i])\")\n",
    "end"
   ]
  },
  {
   "cell_type": "markdown",
   "id": "3eb0d58f-d13f-4ff6-a717-a9004aa6db84",
   "metadata": {},
   "source": [
    "## Example: using a `Dataset`\n",
    "Similarly, once you have a `Dataset`, there are many things you could be doing with it. Notice that a `Dataset` is not only derived from the evolution of a dynamical system using `trajectory`. You could get a `Dataset` by loading in some experimentally measured data, or generate one via delay coordinates embedding of an existing timeseries. E.g.,"
   ]
  },
  {
   "cell_type": "code",
   "execution_count": 89,
   "id": "24b5e543-342e-4ae6-876f-dcb9ee6d8cd5",
   "metadata": {},
   "outputs": [
    {
     "data": {
      "text/plain": [
       "5-dimensional Dataset{Float64} with 9885 points\n",
       " 0.460626   2.4424   3.51491   3.44466   7.96079\n",
       " 0.537256   2.49978  3.52171   3.48209   8.22117\n",
       " 0.61337    2.55619  3.52613   3.52621   8.4743\n",
       " 0.688962   2.61158  3.5282    3.57726   8.71752\n",
       " 0.764026   2.6659   3.52796   3.63543   8.94822\n",
       " 0.838557   2.71913  3.52551   3.70088   9.16379\n",
       " 0.912548   2.7712   3.52093   3.77375   9.36155\n",
       " 0.985993   2.82206  3.51434   3.85418   9.53873\n",
       " 1.05889    2.87168  3.50589   3.9423    9.69245\n",
       " 1.13122    2.91998  3.49576   4.03828   9.81969\n",
       " 1.20298    2.96693  3.48415   4.1423    9.91742\n",
       " 1.27417    3.01244  3.47128   4.25463   9.98277\n",
       " 1.34477    3.05647  3.45742   4.37557  10.0132\n",
       " ⋮                                      \n",
       " 5.31655   -4.44653  0.617003  1.70569   8.29758\n",
       " 5.18398   -4.55916  0.715355  1.97012   8.37165\n",
       " 5.01617   -4.64546  0.780624  2.24537   8.43578\n",
       " 4.81238   -4.70575  0.814272  2.52949   8.49048\n",
       " 4.57243   -4.73995  0.818524  2.82056   8.53624\n",
       " 4.29667   -4.74759  0.796294  3.1167    8.57354\n",
       " 3.98611   -4.72789  0.751111  3.4161    8.60278\n",
       " 3.64235   -4.67986  0.687012  3.71697   8.62436\n",
       " 3.26768   -4.60243  0.608429  4.01763   8.63861\n",
       " 2.86499   -4.49466  0.520054  4.31642   8.64583\n",
       " 2.43784   -4.3559   0.426703  4.61179   8.64626\n",
       " 1.9903    -4.18601  0.333173  4.90225   8.64011"
      ]
     },
     "execution_count": 89,
     "metadata": {},
     "output_type": "execute_result"
    }
   ],
   "source": [
    "x = tr[:, 1] # first variable timeseries\n",
    "τ = estimate_delay(x, \"mi_min\")\n",
    "E = embed(x, 5, τ)"
   ]
  },
  {
   "cell_type": "markdown",
   "id": "e460a045-d5aa-4f56-bdc3-10a7ce488780",
   "metadata": {},
   "source": [
    "From a `Dataset`, you can then e.g., calculate its entropy based on a given definition of probabilities"
   ]
  },
  {
   "cell_type": "code",
   "execution_count": 90,
   "id": "12a20d4f-0f41-401b-bcff-7dd263cdbd30",
   "metadata": {},
   "outputs": [
    {
     "data": {
      "text/plain": [
       "6.725689594594948"
      ]
     },
     "execution_count": 90,
     "metadata": {},
     "output_type": "execute_result"
    }
   ],
   "source": [
    "est = NaiveKernel(0.2)\n",
    "g = genentropy(E, est)"
   ]
  },
  {
   "cell_type": "markdown",
   "id": "b648e6eb-ab48-4b73-8b7b-aa7c14af7d38",
   "metadata": {},
   "source": [
    "or numerically estimate its fractal dimension"
   ]
  },
  {
   "cell_type": "code",
   "execution_count": 91,
   "id": "87d938ca-fd69-42c1-9613-58f32b3c4333",
   "metadata": {},
   "outputs": [
    {
     "data": {
      "text/plain": [
       "2.235155380156463"
      ]
     },
     "execution_count": 91,
     "metadata": {},
     "output_type": "execute_result"
    }
   ],
   "source": [
    "grassberger_dim(E) # automatically estimates suitable radii (NOT to be trusted!)"
   ]
  },
  {
   "cell_type": "markdown",
   "id": "6726268d-a898-448e-96c3-60b95ea8409b",
   "metadata": {},
   "source": [
    "or create a recurrence matrix out of it"
   ]
  },
  {
   "cell_type": "code",
   "execution_count": 92,
   "id": "b6a397ee-9121-47f8-8268-5799fc3b6da1",
   "metadata": {},
   "outputs": [
    {
     "data": {
      "text/plain": [
       "       \u001b[1mRecurrenceMatrix of size (9885, 9885) with 39345 entries\u001b[22m    \n",
       "    \u001b[90m┌────────────────────────────────────────────────────────────┐\u001b[39m \n",
       "    \u001b[90m│\u001b[39m\u001b[0m \u001b[0m \u001b[38;5;6m'\u001b[39m\u001b[0m \u001b[0m \u001b[0m \u001b[0m \u001b[38;5;6m.\u001b[39m\u001b[0m \u001b[0m \u001b[0m \u001b[0m \u001b[0m \u001b[0m \u001b[0m \u001b[0m \u001b[0m \u001b[0m \u001b[38;5;6m.\u001b[39m\u001b[0m \u001b[0m \u001b[0m \u001b[0m \u001b[0m \u001b[0m \u001b[0m \u001b[0m \u001b[0m \u001b[0m \u001b[38;5;6m:\u001b[39m\u001b[38;5;6m.\u001b[39m\u001b[38;5;6m.\u001b[39m\u001b[38;5;6m:\u001b[39m\u001b[0m \u001b[0m \u001b[0m \u001b[0m \u001b[0m \u001b[38;5;6m:\u001b[39m\u001b[0m \u001b[0m \u001b[0m \u001b[0m \u001b[0m \u001b[0m \u001b[38;5;6m'\u001b[39m\u001b[38;5;6m.\u001b[39m\u001b[38;5;6m.\u001b[39m\u001b[0m \u001b[0m \u001b[0m \u001b[0m \u001b[0m \u001b[0m \u001b[0m \u001b[38;5;6m.\u001b[39m\u001b[38;5;6m:\u001b[39m\u001b[38;5;6m.\u001b[39m\u001b[38;5;6m:\u001b[39m\u001b[38;5;6m:\u001b[39m\u001b[90m│\u001b[39m\n",
       "    \u001b[90m│\u001b[39m\u001b[0m \u001b[0m \u001b[0m \u001b[0m \u001b[0m \u001b[0m \u001b[0m \u001b[38;5;6m.\u001b[39m\u001b[0m \u001b[0m \u001b[0m \u001b[0m \u001b[0m \u001b[0m \u001b[0m \u001b[0m \u001b[0m \u001b[0m \u001b[0m \u001b[0m \u001b[0m \u001b[0m \u001b[0m \u001b[0m \u001b[0m \u001b[0m \u001b[0m \u001b[0m \u001b[38;5;6m'\u001b[39m\u001b[38;5;6m:\u001b[39m\u001b[38;5;6m:\u001b[39m\u001b[38;5;6m.\u001b[39m\u001b[0m \u001b[0m \u001b[0m \u001b[0m \u001b[0m \u001b[0m \u001b[0m \u001b[0m \u001b[0m \u001b[0m \u001b[0m \u001b[0m \u001b[0m \u001b[0m \u001b[38;5;6m'\u001b[39m\u001b[0m \u001b[0m \u001b[0m \u001b[0m \u001b[0m \u001b[0m \u001b[38;5;6m'\u001b[39m\u001b[0m \u001b[38;5;6m:\u001b[39m\u001b[38;5;6m:\u001b[39m\u001b[38;5;6m:\u001b[39m\u001b[38;5;6m:\u001b[39m\u001b[38;5;6m.\u001b[39m\u001b[90m│\u001b[39m\n",
       "    \u001b[90m│\u001b[39m\u001b[0m \u001b[0m \u001b[0m \u001b[0m \u001b[0m \u001b[0m \u001b[0m \u001b[0m \u001b[0m \u001b[0m \u001b[0m \u001b[0m \u001b[0m \u001b[0m \u001b[0m \u001b[0m \u001b[0m \u001b[0m \u001b[0m \u001b[0m \u001b[38;5;6m.\u001b[39m\u001b[38;5;6m.\u001b[39m\u001b[0m \u001b[0m \u001b[0m \u001b[0m \u001b[0m \u001b[0m \u001b[0m \u001b[0m \u001b[0m \u001b[0m \u001b[0m \u001b[0m \u001b[0m \u001b[0m \u001b[0m \u001b[0m \u001b[0m \u001b[0m \u001b[0m \u001b[0m \u001b[0m \u001b[0m \u001b[0m \u001b[0m \u001b[0m \u001b[0m \u001b[0m \u001b[0m \u001b[0m \u001b[38;5;6m:\u001b[39m\u001b[38;5;6m.\u001b[39m\u001b[38;5;6m:\u001b[39m\u001b[38;5;6m:\u001b[39m\u001b[38;5;6m'\u001b[39m\u001b[0m \u001b[38;5;6m.\u001b[39m\u001b[0m \u001b[0m \u001b[90m│\u001b[39m\n",
       "    \u001b[90m│\u001b[39m\u001b[0m \u001b[0m \u001b[0m \u001b[0m \u001b[0m \u001b[38;5;6m'\u001b[39m\u001b[38;5;6m.\u001b[39m\u001b[0m \u001b[0m \u001b[0m \u001b[0m \u001b[0m \u001b[0m \u001b[0m \u001b[0m \u001b[0m \u001b[0m \u001b[0m \u001b[0m \u001b[38;5;6m'\u001b[39m\u001b[38;5;6m:\u001b[39m\u001b[38;5;6m:\u001b[39m\u001b[0m \u001b[0m \u001b[0m \u001b[0m \u001b[0m \u001b[0m \u001b[0m \u001b[0m \u001b[0m \u001b[0m \u001b[0m \u001b[0m \u001b[0m \u001b[0m \u001b[0m \u001b[0m \u001b[0m \u001b[0m \u001b[0m \u001b[0m \u001b[0m \u001b[0m \u001b[0m \u001b[0m \u001b[0m \u001b[0m \u001b[0m \u001b[0m \u001b[38;5;6m.\u001b[39m\u001b[38;5;6m:\u001b[39m\u001b[38;5;6m'\u001b[39m\u001b[38;5;6m'\u001b[39m\u001b[38;5;6m.\u001b[39m\u001b[0m \u001b[0m \u001b[0m \u001b[0m \u001b[0m \u001b[90m│\u001b[39m\n",
       "    \u001b[90m│\u001b[39m\u001b[0m \u001b[0m \u001b[0m \u001b[0m \u001b[0m \u001b[0m \u001b[0m \u001b[0m \u001b[0m \u001b[0m \u001b[0m \u001b[0m \u001b[0m \u001b[0m \u001b[0m \u001b[0m \u001b[0m \u001b[0m \u001b[38;5;6m.\u001b[39m\u001b[0m \u001b[0m \u001b[0m \u001b[0m \u001b[0m \u001b[0m \u001b[0m \u001b[0m \u001b[38;5;6m:\u001b[39m\u001b[0m \u001b[38;5;6m'\u001b[39m\u001b[38;5;6m'\u001b[39m\u001b[38;5;6m.\u001b[39m\u001b[38;5;6m.\u001b[39m\u001b[38;5;6m'\u001b[39m\u001b[38;5;6m:\u001b[39m\u001b[38;5;6m'\u001b[39m\u001b[38;5;6m:\u001b[39m\u001b[38;5;6m'\u001b[39m\u001b[0m \u001b[0m \u001b[0m \u001b[0m \u001b[0m \u001b[38;5;6m:\u001b[39m\u001b[38;5;6m'\u001b[39m\u001b[0m \u001b[38;5;6m'\u001b[39m\u001b[38;5;6m.\u001b[39m\u001b[38;5;6m.\u001b[39m\u001b[38;5;6m:\u001b[39m\u001b[38;5;6m'\u001b[39m\u001b[0m \u001b[0m \u001b[0m \u001b[0m \u001b[0m \u001b[0m \u001b[0m \u001b[0m \u001b[0m \u001b[90m│\u001b[39m\n",
       "    \u001b[90m│\u001b[39m\u001b[0m \u001b[0m \u001b[0m \u001b[0m \u001b[0m \u001b[0m \u001b[0m \u001b[38;5;6m'\u001b[39m\u001b[0m \u001b[0m \u001b[0m \u001b[0m \u001b[0m \u001b[0m \u001b[0m \u001b[0m \u001b[0m \u001b[0m \u001b[0m \u001b[0m \u001b[0m \u001b[0m \u001b[0m \u001b[0m \u001b[0m \u001b[0m \u001b[0m \u001b[0m \u001b[38;5;6m:\u001b[39m\u001b[38;5;6m:\u001b[39m\u001b[38;5;6m:\u001b[39m\u001b[38;5;6m'\u001b[39m\u001b[0m \u001b[0m \u001b[0m \u001b[0m \u001b[0m \u001b[0m \u001b[0m \u001b[0m \u001b[0m \u001b[0m \u001b[0m \u001b[0m \u001b[0m \u001b[38;5;6m.\u001b[39m\u001b[38;5;6m:\u001b[39m\u001b[38;5;6m'\u001b[39m\u001b[38;5;6m'\u001b[39m\u001b[38;5;6m.\u001b[39m\u001b[0m \u001b[0m \u001b[0m \u001b[0m \u001b[0m \u001b[0m \u001b[0m \u001b[38;5;6m'\u001b[39m\u001b[38;5;6m'\u001b[39m\u001b[38;5;6m.\u001b[39m\u001b[90m│\u001b[39m\n",
       "    \u001b[90m│\u001b[39m\u001b[0m \u001b[0m \u001b[0m \u001b[0m \u001b[0m \u001b[0m \u001b[0m \u001b[0m \u001b[0m \u001b[0m \u001b[38;5;6m.\u001b[39m\u001b[0m \u001b[0m \u001b[0m \u001b[0m \u001b[0m \u001b[0m \u001b[0m \u001b[0m \u001b[0m \u001b[0m \u001b[0m \u001b[0m \u001b[0m \u001b[0m \u001b[0m \u001b[0m \u001b[38;5;6m.\u001b[39m\u001b[38;5;6m:\u001b[39m\u001b[38;5;6m'\u001b[39m\u001b[0m \u001b[0m \u001b[38;5;6m.\u001b[39m\u001b[0m \u001b[38;5;6m.\u001b[39m\u001b[38;5;6m.\u001b[39m\u001b[38;5;6m.\u001b[39m\u001b[38;5;6m:\u001b[39m\u001b[0m \u001b[0m \u001b[0m \u001b[38;5;6m.\u001b[39m\u001b[0m \u001b[38;5;6m.\u001b[39m\u001b[38;5;6m:\u001b[39m\u001b[38;5;6m'\u001b[39m\u001b[0m \u001b[0m \u001b[0m \u001b[38;5;6m.\u001b[39m\u001b[0m \u001b[0m \u001b[0m \u001b[0m \u001b[0m \u001b[0m \u001b[0m \u001b[0m \u001b[0m \u001b[38;5;6m'\u001b[39m\u001b[90m│\u001b[39m\n",
       "    \u001b[90m│\u001b[39m\u001b[0m \u001b[0m \u001b[0m \u001b[0m \u001b[0m \u001b[0m \u001b[0m \u001b[0m \u001b[38;5;6m.\u001b[39m\u001b[0m \u001b[0m \u001b[0m \u001b[0m \u001b[0m \u001b[0m \u001b[0m \u001b[0m \u001b[0m \u001b[0m \u001b[0m \u001b[0m \u001b[0m \u001b[0m \u001b[0m \u001b[38;5;6m.\u001b[39m\u001b[38;5;6m:\u001b[39m\u001b[38;5;6m'\u001b[39m\u001b[0m \u001b[0m \u001b[0m \u001b[0m \u001b[0m \u001b[0m \u001b[0m \u001b[38;5;6m.\u001b[39m\u001b[38;5;6m'\u001b[39m\u001b[0m \u001b[0m \u001b[0m \u001b[0m \u001b[38;5;6m.\u001b[39m\u001b[38;5;6m:\u001b[39m\u001b[38;5;6m:\u001b[39m\u001b[38;5;6m:\u001b[39m\u001b[0m \u001b[0m \u001b[0m \u001b[0m \u001b[0m \u001b[0m \u001b[0m \u001b[0m \u001b[0m \u001b[0m \u001b[0m \u001b[0m \u001b[0m \u001b[0m \u001b[0m \u001b[0m \u001b[90m│\u001b[39m\n",
       "    \u001b[90m│\u001b[39m\u001b[0m \u001b[0m \u001b[0m \u001b[0m \u001b[0m \u001b[0m \u001b[0m \u001b[38;5;6m'\u001b[39m\u001b[38;5;6m'\u001b[39m\u001b[0m \u001b[0m \u001b[0m \u001b[0m \u001b[38;5;6m'\u001b[39m\u001b[0m \u001b[0m \u001b[0m \u001b[0m \u001b[0m \u001b[0m \u001b[0m \u001b[0m \u001b[38;5;6m.\u001b[39m\u001b[38;5;6m'\u001b[39m\u001b[38;5;6m'\u001b[39m\u001b[0m \u001b[0m \u001b[0m \u001b[0m \u001b[0m \u001b[0m \u001b[38;5;6m.\u001b[39m\u001b[0m \u001b[0m \u001b[0m \u001b[0m \u001b[0m \u001b[0m \u001b[38;5;6m.\u001b[39m\u001b[38;5;6m:\u001b[39m\u001b[38;5;6m'\u001b[39m\u001b[0m \u001b[0m \u001b[0m \u001b[0m \u001b[0m \u001b[0m \u001b[0m \u001b[0m \u001b[0m \u001b[0m \u001b[0m \u001b[0m \u001b[0m \u001b[0m \u001b[0m \u001b[0m \u001b[0m \u001b[38;5;6m.\u001b[39m\u001b[0m \u001b[90m│\u001b[39m\n",
       "    \u001b[90m│\u001b[39m\u001b[0m \u001b[0m \u001b[0m \u001b[0m \u001b[0m \u001b[0m \u001b[0m \u001b[0m \u001b[0m \u001b[0m \u001b[0m \u001b[0m \u001b[0m \u001b[0m \u001b[0m \u001b[0m \u001b[0m \u001b[0m \u001b[0m \u001b[0m \u001b[0m \u001b[0m \u001b[0m \u001b[0m \u001b[0m \u001b[0m \u001b[38;5;6m.\u001b[39m\u001b[38;5;6m.\u001b[39m\u001b[0m \u001b[38;5;6m.\u001b[39m\u001b[38;5;6m'\u001b[39m\u001b[0m \u001b[38;5;6m.\u001b[39m\u001b[38;5;6m.\u001b[39m\u001b[38;5;6m.\u001b[39m\u001b[38;5;6m.\u001b[39m\u001b[38;5;6m.\u001b[39m\u001b[38;5;6m:\u001b[39m\u001b[38;5;6m'\u001b[39m\u001b[0m \u001b[0m \u001b[0m \u001b[0m \u001b[38;5;6m.\u001b[39m\u001b[38;5;6m:\u001b[39m\u001b[0m \u001b[0m \u001b[0m \u001b[0m \u001b[38;5;6m:\u001b[39m\u001b[38;5;6m'\u001b[39m\u001b[0m \u001b[0m \u001b[0m \u001b[0m \u001b[0m \u001b[0m \u001b[0m \u001b[0m \u001b[38;5;6m'\u001b[39m\u001b[90m│\u001b[39m\n",
       "    \u001b[90m│\u001b[39m\u001b[0m \u001b[0m \u001b[0m \u001b[0m \u001b[0m \u001b[0m \u001b[0m \u001b[0m \u001b[0m \u001b[0m \u001b[0m \u001b[0m \u001b[0m \u001b[0m \u001b[0m \u001b[0m \u001b[0m \u001b[0m \u001b[0m \u001b[0m \u001b[0m \u001b[0m \u001b[0m \u001b[0m \u001b[0m \u001b[0m \u001b[38;5;6m'\u001b[39m\u001b[38;5;6m.\u001b[39m\u001b[0m \u001b[0m \u001b[0m \u001b[0m \u001b[38;5;6m.\u001b[39m\u001b[38;5;6m:\u001b[39m\u001b[38;5;6m:\u001b[39m\u001b[38;5;6m'\u001b[39m\u001b[38;5;6m:\u001b[39m\u001b[0m \u001b[0m \u001b[0m \u001b[0m \u001b[38;5;6m.\u001b[39m\u001b[38;5;6m'\u001b[39m\u001b[38;5;6m:\u001b[39m\u001b[38;5;6m'\u001b[39m\u001b[0m \u001b[0m \u001b[0m \u001b[0m \u001b[38;5;6m:\u001b[39m\u001b[0m \u001b[0m \u001b[0m \u001b[0m \u001b[0m \u001b[0m \u001b[0m \u001b[0m \u001b[0m \u001b[0m \u001b[90m│\u001b[39m\n",
       "    \u001b[90m│\u001b[39m\u001b[0m \u001b[0m \u001b[0m \u001b[0m \u001b[0m \u001b[0m \u001b[0m \u001b[38;5;6m.\u001b[39m\u001b[0m \u001b[0m \u001b[0m \u001b[0m \u001b[0m \u001b[0m \u001b[0m \u001b[0m \u001b[0m \u001b[0m \u001b[38;5;6m.\u001b[39m\u001b[0m \u001b[0m \u001b[0m \u001b[0m \u001b[0m \u001b[0m \u001b[0m \u001b[0m \u001b[38;5;6m'\u001b[39m\u001b[0m \u001b[0m \u001b[0m \u001b[38;5;6m.\u001b[39m\u001b[38;5;6m:\u001b[39m\u001b[38;5;6m'\u001b[39m\u001b[38;5;6m'\u001b[39m\u001b[38;5;6m'\u001b[39m\u001b[38;5;6m'\u001b[39m\u001b[0m \u001b[38;5;6m.\u001b[39m\u001b[0m \u001b[0m \u001b[0m \u001b[0m \u001b[38;5;6m'\u001b[39m\u001b[0m \u001b[0m \u001b[0m \u001b[38;5;6m.\u001b[39m\u001b[38;5;6m:\u001b[39m\u001b[38;5;6m'\u001b[39m\u001b[0m \u001b[0m \u001b[0m \u001b[0m \u001b[0m \u001b[0m \u001b[0m \u001b[38;5;6m.\u001b[39m\u001b[38;5;6m.\u001b[39m\u001b[0m \u001b[90m│\u001b[39m\n",
       "    \u001b[90m│\u001b[39m\u001b[0m \u001b[0m \u001b[38;5;6m.\u001b[39m\u001b[0m \u001b[0m \u001b[0m \u001b[0m \u001b[0m \u001b[0m \u001b[0m \u001b[0m \u001b[0m \u001b[0m \u001b[0m \u001b[0m \u001b[0m \u001b[0m \u001b[0m \u001b[0m \u001b[0m \u001b[0m \u001b[0m \u001b[0m \u001b[0m \u001b[0m \u001b[0m \u001b[0m \u001b[0m \u001b[38;5;6m:\u001b[39m\u001b[38;5;6m:\u001b[39m\u001b[38;5;6m:\u001b[39m\u001b[38;5;6m:\u001b[39m\u001b[0m \u001b[0m \u001b[0m \u001b[0m \u001b[0m \u001b[38;5;6m:\u001b[39m\u001b[0m \u001b[0m \u001b[0m \u001b[0m \u001b[0m \u001b[0m \u001b[0m \u001b[38;5;6m.\u001b[39m\u001b[38;5;6m:\u001b[39m\u001b[38;5;6m:\u001b[39m\u001b[0m \u001b[38;5;6m:\u001b[39m\u001b[0m \u001b[0m \u001b[0m \u001b[0m \u001b[0m \u001b[38;5;6m'\u001b[39m\u001b[38;5;6m:\u001b[39m\u001b[38;5;6m:\u001b[39m\u001b[0m \u001b[38;5;6m.\u001b[39m\u001b[90m│\u001b[39m\n",
       "    \u001b[90m│\u001b[39m\u001b[0m \u001b[0m \u001b[0m \u001b[0m \u001b[0m \u001b[0m \u001b[0m \u001b[0m \u001b[0m \u001b[0m \u001b[38;5;6m.\u001b[39m\u001b[0m \u001b[0m \u001b[0m \u001b[0m \u001b[0m \u001b[0m \u001b[0m \u001b[0m \u001b[0m \u001b[0m \u001b[0m \u001b[0m \u001b[0m \u001b[0m \u001b[0m \u001b[38;5;6m.\u001b[39m\u001b[38;5;6m:\u001b[39m\u001b[38;5;6m'\u001b[39m\u001b[0m \u001b[38;5;6m'\u001b[39m\u001b[0m \u001b[38;5;6m.\u001b[39m\u001b[0m \u001b[38;5;6m.\u001b[39m\u001b[38;5;6m.\u001b[39m\u001b[38;5;6m:\u001b[39m\u001b[0m \u001b[0m \u001b[0m \u001b[0m \u001b[0m \u001b[0m \u001b[38;5;6m:\u001b[39m\u001b[38;5;6m'\u001b[39m\u001b[0m \u001b[38;5;6m'\u001b[39m\u001b[0m \u001b[0m \u001b[38;5;6m:\u001b[39m\u001b[0m \u001b[0m \u001b[0m \u001b[0m \u001b[0m \u001b[0m \u001b[38;5;6m'\u001b[39m\u001b[38;5;6m'\u001b[39m\u001b[0m \u001b[0m \u001b[90m│\u001b[39m\n",
       "    \u001b[90m│\u001b[39m\u001b[0m \u001b[0m \u001b[0m \u001b[0m \u001b[0m \u001b[0m \u001b[0m \u001b[0m \u001b[38;5;6m.\u001b[39m\u001b[0m \u001b[0m \u001b[0m \u001b[0m \u001b[0m \u001b[0m \u001b[38;5;6m.\u001b[39m\u001b[0m \u001b[38;5;6m.\u001b[39m\u001b[0m \u001b[0m \u001b[0m \u001b[0m \u001b[0m \u001b[38;5;6m.\u001b[39m\u001b[38;5;6m.\u001b[39m\u001b[38;5;6m:\u001b[39m\u001b[38;5;6m'\u001b[39m\u001b[0m \u001b[0m \u001b[0m \u001b[0m \u001b[0m \u001b[0m \u001b[0m \u001b[0m \u001b[38;5;6m'\u001b[39m\u001b[0m \u001b[0m \u001b[0m \u001b[0m \u001b[38;5;6m.\u001b[39m\u001b[38;5;6m:\u001b[39m\u001b[38;5;6m'\u001b[39m\u001b[0m \u001b[0m \u001b[0m \u001b[0m \u001b[0m \u001b[0m \u001b[0m \u001b[0m \u001b[0m \u001b[0m \u001b[0m \u001b[0m \u001b[0m \u001b[0m \u001b[0m \u001b[0m \u001b[0m \u001b[90m│\u001b[39m\n",
       "    \u001b[90m│\u001b[39m\u001b[0m \u001b[0m \u001b[0m \u001b[0m \u001b[0m \u001b[0m \u001b[0m \u001b[0m \u001b[0m \u001b[0m \u001b[0m \u001b[0m \u001b[0m \u001b[0m \u001b[0m \u001b[0m \u001b[0m \u001b[0m \u001b[38;5;6m.\u001b[39m\u001b[0m \u001b[0m \u001b[38;5;6m.\u001b[39m\u001b[38;5;6m:\u001b[39m\u001b[38;5;6m'\u001b[39m\u001b[38;5;6m'\u001b[39m\u001b[0m \u001b[0m \u001b[0m \u001b[0m \u001b[0m \u001b[0m \u001b[0m \u001b[0m \u001b[0m \u001b[0m \u001b[0m \u001b[0m \u001b[0m \u001b[38;5;6m.\u001b[39m\u001b[0m \u001b[38;5;6m'\u001b[39m\u001b[0m \u001b[0m \u001b[0m \u001b[0m \u001b[0m \u001b[0m \u001b[0m \u001b[0m \u001b[0m \u001b[0m \u001b[0m \u001b[0m \u001b[0m \u001b[0m \u001b[0m \u001b[0m \u001b[0m \u001b[0m \u001b[0m \u001b[90m│\u001b[39m\n",
       "    \u001b[90m│\u001b[39m\u001b[0m \u001b[0m \u001b[0m \u001b[0m \u001b[38;5;6m.\u001b[39m\u001b[38;5;6m.\u001b[39m\u001b[38;5;6m'\u001b[39m\u001b[0m \u001b[0m \u001b[0m \u001b[0m \u001b[0m \u001b[0m \u001b[0m \u001b[0m \u001b[0m \u001b[0m \u001b[0m \u001b[0m \u001b[38;5;6m.\u001b[39m\u001b[38;5;6m:\u001b[39m\u001b[38;5;6m'\u001b[39m\u001b[0m \u001b[0m \u001b[0m \u001b[0m \u001b[0m \u001b[0m \u001b[0m \u001b[0m \u001b[0m \u001b[0m \u001b[0m \u001b[0m \u001b[0m \u001b[0m \u001b[0m \u001b[0m \u001b[0m \u001b[0m \u001b[0m \u001b[0m \u001b[0m \u001b[0m \u001b[0m \u001b[0m \u001b[0m \u001b[0m \u001b[0m \u001b[0m \u001b[0m \u001b[38;5;6m'\u001b[39m\u001b[38;5;6m:\u001b[39m\u001b[38;5;6m'\u001b[39m\u001b[0m \u001b[0m \u001b[0m \u001b[0m \u001b[0m \u001b[0m \u001b[90m│\u001b[39m\n",
       "    \u001b[90m│\u001b[39m\u001b[0m \u001b[0m \u001b[0m \u001b[0m \u001b[38;5;6m'\u001b[39m\u001b[0m \u001b[0m \u001b[0m \u001b[0m \u001b[0m \u001b[0m \u001b[0m \u001b[0m \u001b[0m \u001b[0m \u001b[0m \u001b[38;5;6m.\u001b[39m\u001b[38;5;6m.\u001b[39m\u001b[38;5;6m'\u001b[39m\u001b[38;5;6m'\u001b[39m\u001b[0m \u001b[0m \u001b[38;5;6m'\u001b[39m\u001b[0m \u001b[38;5;6m.\u001b[39m\u001b[0m \u001b[0m \u001b[0m \u001b[0m \u001b[0m \u001b[0m \u001b[38;5;6m'\u001b[39m\u001b[0m \u001b[0m \u001b[0m \u001b[0m \u001b[0m \u001b[0m \u001b[0m \u001b[0m \u001b[0m \u001b[0m \u001b[0m \u001b[0m \u001b[0m \u001b[0m \u001b[0m \u001b[0m \u001b[38;5;6m'\u001b[39m\u001b[0m \u001b[0m \u001b[0m \u001b[0m \u001b[0m \u001b[0m \u001b[0m \u001b[0m \u001b[0m \u001b[38;5;6m'\u001b[39m\u001b[0m \u001b[90m│\u001b[39m\n",
       "    \u001b[90m│\u001b[39m\u001b[0m \u001b[0m \u001b[0m \u001b[38;5;6m:\u001b[39m\u001b[0m \u001b[0m \u001b[0m \u001b[0m \u001b[0m \u001b[0m \u001b[0m \u001b[0m \u001b[38;5;6m'\u001b[39m\u001b[0m \u001b[38;5;6m.\u001b[39m\u001b[38;5;6m:\u001b[39m\u001b[38;5;6m'\u001b[39m\u001b[0m \u001b[0m \u001b[0m \u001b[0m \u001b[0m \u001b[0m \u001b[0m \u001b[38;5;6m.\u001b[39m\u001b[0m \u001b[0m \u001b[0m \u001b[0m \u001b[0m \u001b[0m \u001b[0m \u001b[0m \u001b[0m \u001b[0m \u001b[0m \u001b[0m \u001b[0m \u001b[0m \u001b[0m \u001b[0m \u001b[0m \u001b[0m \u001b[0m \u001b[0m \u001b[0m \u001b[0m \u001b[0m \u001b[0m \u001b[0m \u001b[0m \u001b[0m \u001b[0m \u001b[0m \u001b[0m \u001b[0m \u001b[0m \u001b[0m \u001b[0m \u001b[0m \u001b[90m│\u001b[39m\n",
       "    \u001b[90m│\u001b[39m\u001b[0m \u001b[0m \u001b[0m \u001b[38;5;6m.\u001b[39m\u001b[0m \u001b[0m \u001b[0m \u001b[0m \u001b[0m \u001b[0m \u001b[0m \u001b[38;5;6m.\u001b[39m\u001b[38;5;6m.\u001b[39m\u001b[38;5;6m:\u001b[39m\u001b[38;5;6m'\u001b[39m\u001b[0m \u001b[38;5;6m.\u001b[39m\u001b[0m \u001b[0m \u001b[0m \u001b[0m \u001b[0m \u001b[0m \u001b[0m \u001b[0m \u001b[0m \u001b[0m \u001b[0m \u001b[0m \u001b[0m \u001b[0m \u001b[0m \u001b[0m \u001b[0m \u001b[0m \u001b[0m \u001b[0m \u001b[0m \u001b[0m \u001b[0m \u001b[38;5;6m'\u001b[39m\u001b[0m \u001b[0m \u001b[0m \u001b[0m \u001b[0m \u001b[0m \u001b[0m \u001b[0m \u001b[0m \u001b[0m \u001b[0m \u001b[0m \u001b[0m \u001b[0m \u001b[0m \u001b[0m \u001b[0m \u001b[0m \u001b[0m \u001b[90m│\u001b[39m\n",
       "    \u001b[90m│\u001b[39m\u001b[0m \u001b[0m \u001b[0m \u001b[0m \u001b[0m \u001b[0m \u001b[0m \u001b[0m \u001b[0m \u001b[38;5;6m.\u001b[39m\u001b[38;5;6m:\u001b[39m\u001b[38;5;6m'\u001b[39m\u001b[38;5;6m'\u001b[39m\u001b[0m \u001b[0m \u001b[0m \u001b[0m \u001b[0m \u001b[0m \u001b[0m \u001b[0m \u001b[0m \u001b[0m \u001b[0m \u001b[0m \u001b[0m \u001b[0m \u001b[38;5;6m'\u001b[39m\u001b[0m \u001b[0m \u001b[0m \u001b[0m \u001b[0m \u001b[0m \u001b[0m \u001b[0m \u001b[0m \u001b[0m \u001b[0m \u001b[0m \u001b[0m \u001b[0m \u001b[0m \u001b[38;5;6m'\u001b[39m\u001b[0m \u001b[0m \u001b[0m \u001b[0m \u001b[0m \u001b[0m \u001b[0m \u001b[0m \u001b[0m \u001b[0m \u001b[0m \u001b[0m \u001b[0m \u001b[0m \u001b[0m \u001b[0m \u001b[90m│\u001b[39m\n",
       "    \u001b[90m│\u001b[39m\u001b[0m \u001b[0m \u001b[0m \u001b[0m \u001b[0m \u001b[0m \u001b[0m \u001b[38;5;6m.\u001b[39m\u001b[38;5;6m:\u001b[39m\u001b[38;5;6m'\u001b[39m\u001b[0m \u001b[0m \u001b[0m \u001b[0m \u001b[0m \u001b[0m \u001b[0m \u001b[0m \u001b[0m \u001b[0m \u001b[0m \u001b[0m \u001b[0m \u001b[0m \u001b[38;5;6m:\u001b[39m\u001b[0m \u001b[0m \u001b[0m \u001b[0m \u001b[0m \u001b[0m \u001b[38;5;6m.\u001b[39m\u001b[0m \u001b[0m \u001b[0m \u001b[0m \u001b[0m \u001b[0m \u001b[0m \u001b[0m \u001b[38;5;6m:\u001b[39m\u001b[38;5;6m'\u001b[39m\u001b[0m \u001b[0m \u001b[0m \u001b[0m \u001b[0m \u001b[38;5;6m.\u001b[39m\u001b[0m \u001b[0m \u001b[0m \u001b[0m \u001b[0m \u001b[0m \u001b[0m \u001b[38;5;6m.\u001b[39m\u001b[0m \u001b[38;5;6m.\u001b[39m\u001b[0m \u001b[0m \u001b[90m│\u001b[39m\n",
       "    \u001b[90m│\u001b[39m\u001b[0m \u001b[0m \u001b[0m \u001b[0m \u001b[38;5;6m.\u001b[39m\u001b[38;5;6m:\u001b[39m\u001b[38;5;6m:\u001b[39m\u001b[38;5;6m'\u001b[39m\u001b[0m \u001b[0m \u001b[0m \u001b[0m \u001b[0m \u001b[0m \u001b[0m \u001b[0m \u001b[0m \u001b[0m \u001b[0m \u001b[38;5;6m.\u001b[39m\u001b[38;5;6m:\u001b[39m\u001b[0m \u001b[0m \u001b[0m \u001b[0m \u001b[0m \u001b[0m \u001b[0m \u001b[0m \u001b[0m \u001b[0m \u001b[0m \u001b[0m \u001b[0m \u001b[0m \u001b[0m \u001b[0m \u001b[0m \u001b[0m \u001b[0m \u001b[0m \u001b[0m \u001b[0m \u001b[0m \u001b[0m \u001b[0m \u001b[0m \u001b[0m \u001b[0m \u001b[0m \u001b[0m \u001b[38;5;6m'\u001b[39m\u001b[38;5;6m.\u001b[39m\u001b[0m \u001b[0m \u001b[0m \u001b[0m \u001b[0m \u001b[0m \u001b[0m \u001b[90m│\u001b[39m\n",
       "    \u001b[90m│\u001b[39m\u001b[0m \u001b[0m \u001b[38;5;6m.\u001b[39m\u001b[38;5;6m:\u001b[39m\u001b[38;5;6m'\u001b[39m\u001b[0m \u001b[0m \u001b[0m \u001b[0m \u001b[0m \u001b[0m \u001b[0m \u001b[38;5;6m'\u001b[39m\u001b[0m \u001b[0m \u001b[38;5;6m.\u001b[39m\u001b[38;5;6m'\u001b[39m\u001b[0m \u001b[0m \u001b[0m \u001b[0m \u001b[0m \u001b[0m \u001b[0m \u001b[0m \u001b[0m \u001b[0m \u001b[0m \u001b[0m \u001b[38;5;6m.\u001b[39m\u001b[0m \u001b[0m \u001b[0m \u001b[0m \u001b[0m \u001b[0m \u001b[0m \u001b[0m \u001b[0m \u001b[0m \u001b[0m \u001b[0m \u001b[0m \u001b[0m \u001b[0m \u001b[0m \u001b[0m \u001b[0m \u001b[0m \u001b[0m \u001b[0m \u001b[0m \u001b[0m \u001b[0m \u001b[0m \u001b[0m \u001b[0m \u001b[0m \u001b[0m \u001b[38;5;6m.\u001b[39m\u001b[90m│\u001b[39m\n",
       "    \u001b[90m│\u001b[39m\u001b[38;5;6m.\u001b[39m\u001b[38;5;6m:\u001b[39m\u001b[38;5;6m'\u001b[39m\u001b[0m \u001b[0m \u001b[0m \u001b[0m \u001b[0m \u001b[0m \u001b[0m \u001b[0m \u001b[0m \u001b[0m \u001b[0m \u001b[0m \u001b[0m \u001b[0m \u001b[0m \u001b[0m \u001b[0m \u001b[0m \u001b[0m \u001b[0m \u001b[0m \u001b[0m \u001b[0m \u001b[0m \u001b[0m \u001b[0m \u001b[0m \u001b[0m \u001b[0m \u001b[0m \u001b[0m \u001b[0m \u001b[0m \u001b[0m \u001b[0m \u001b[0m \u001b[0m \u001b[0m \u001b[0m \u001b[0m \u001b[0m \u001b[0m \u001b[0m \u001b[0m \u001b[0m \u001b[0m \u001b[0m \u001b[0m \u001b[0m \u001b[0m \u001b[0m \u001b[0m \u001b[0m \u001b[0m \u001b[0m \u001b[0m \u001b[0m \u001b[90m│\u001b[39m\n",
       "    \u001b[90m└────────────────────────────────────────────────────────────┘\u001b[39m "
      ]
     },
     "execution_count": 92,
     "metadata": {},
     "output_type": "execute_result"
    }
   ],
   "source": [
    "R = RecurrenceMatrix(E, 0.5)"
   ]
  },
  {
   "cell_type": "markdown",
   "id": "aed715fd-6194-4df3-aba1-9e6038a7ec8c",
   "metadata": {},
   "source": [
    "and then get some recurrence quantifiers"
   ]
  },
  {
   "cell_type": "code",
   "execution_count": 93,
   "id": "33503cdf-4e5f-4e8a-9d35-0bba2cba5598",
   "metadata": {},
   "outputs": [
    {
     "data": {
      "text/plain": [
       "RQA parameters in Dict{Symbol, Float64} with 14 entries:\n",
       "  :DIV   => 0.00168067\n",
       "  :LAM   => 0.453281\n",
       "  :Vmax  => 8.0\n",
       "  :VENTR => 0.893277\n",
       "  :Lmax  => 595.0\n",
       "  :MRT   => 935.783\n",
       "  :NMPRT => 6704.0\n",
       "  :RR    => 0.000301525\n",
       "  :RTE   => 2.74542\n",
       "  :TT    => 2.45091\n",
       "  :L     => 19.8419\n",
       "  :ENTR  => 3.3352\n",
       "  :DET   => 0.996708\n",
       "  :TREND => -7.31104e-5"
      ]
     },
     "execution_count": 93,
     "metadata": {},
     "output_type": "execute_result"
    }
   ],
   "source": [
    "rqa(R)"
   ]
  },
  {
   "cell_type": "markdown",
   "id": "3b612b82-7b08-4839-8591-7e4c7d294f28",
   "metadata": {},
   "source": [
    "From here, the sky is the limit. The best way forwards is to simply visit the [Contents page](https://juliadynamics.github.io/DynamicalSystems.jl/dev/contents/), which lists everything possible with DynamicalSystems.jl."
   ]
  }
 ],
 "metadata": {
  "kernelspec": {
   "display_name": "Julia 1.6.0",
   "language": "julia",
   "name": "julia-1.6"
  },
  "language_info": {
   "file_extension": ".jl",
   "mimetype": "application/julia",
   "name": "julia",
   "version": "1.6.0"
  },
  "toc-autonumbering": false,
  "toc-showcode": false,
  "toc-showmarkdowntxt": false,
  "toc-showtags": false
 },
 "nbformat": 4,
 "nbformat_minor": 5
}